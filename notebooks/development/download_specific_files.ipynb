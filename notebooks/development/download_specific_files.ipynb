{
 "cells": [
  {
   "cell_type": "code",
   "execution_count": 1,
   "id": "10bf1aa8",
   "metadata": {},
   "outputs": [],
   "source": [
    "import pandas as pd"
   ]
  },
  {
   "cell_type": "code",
   "execution_count": 2,
   "id": "77ca80dc",
   "metadata": {},
   "outputs": [],
   "source": [
    "data = pd.read_csv(\"../../src/ashanti.csv\")\n",
    "#data['X_tile'] = data['X_tile'].str.extract('(\\d+)', expand=False)\n",
    "#data['X_tile'] = pd.to_numeric(data['X_tile'])\n",
    "#data['Y_tile'] = data['Y_tile'].str.extract('(\\d+)', expand=False)\n",
    "#data['Y_tile'] = pd.to_numeric(data['Y_tile'])"
   ]
  },
  {
   "cell_type": "code",
   "execution_count": 3,
   "id": "395ba7b6",
   "metadata": {},
   "outputs": [
    {
     "data": {
      "text/html": [
       "<div>\n",
       "<style scoped>\n",
       "    .dataframe tbody tr th:only-of-type {\n",
       "        vertical-align: middle;\n",
       "    }\n",
       "\n",
       "    .dataframe tbody tr th {\n",
       "        vertical-align: top;\n",
       "    }\n",
       "\n",
       "    .dataframe thead th {\n",
       "        text-align: right;\n",
       "    }\n",
       "</style>\n",
       "<table border=\"1\" class=\"dataframe\">\n",
       "  <thead>\n",
       "    <tr style=\"text-align: right;\">\n",
       "      <th></th>\n",
       "      <th>X</th>\n",
       "      <th>Y</th>\n",
       "      <th>Y_tile</th>\n",
       "      <th>X_tile</th>\n",
       "      <th>country</th>\n",
       "    </tr>\n",
       "  </thead>\n",
       "  <tbody>\n",
       "    <tr>\n",
       "      <th>0</th>\n",
       "      <td>-1.4167</td>\n",
       "      <td>7.6389</td>\n",
       "      <td>1101</td>\n",
       "      <td>1660</td>\n",
       "      <td>Ghana</td>\n",
       "    </tr>\n",
       "    <tr>\n",
       "      <th>1</th>\n",
       "      <td>-1.3611</td>\n",
       "      <td>7.6389</td>\n",
       "      <td>1101</td>\n",
       "      <td>1661</td>\n",
       "      <td>Ghana</td>\n",
       "    </tr>\n",
       "    <tr>\n",
       "      <th>2</th>\n",
       "      <td>-1.3056</td>\n",
       "      <td>7.6389</td>\n",
       "      <td>1101</td>\n",
       "      <td>1662</td>\n",
       "      <td>Ghana</td>\n",
       "    </tr>\n",
       "    <tr>\n",
       "      <th>3</th>\n",
       "      <td>-1.4167</td>\n",
       "      <td>7.5833</td>\n",
       "      <td>1100</td>\n",
       "      <td>1660</td>\n",
       "      <td>Ghana</td>\n",
       "    </tr>\n",
       "    <tr>\n",
       "      <th>4</th>\n",
       "      <td>-1.3611</td>\n",
       "      <td>7.5833</td>\n",
       "      <td>1100</td>\n",
       "      <td>1661</td>\n",
       "      <td>Ghana</td>\n",
       "    </tr>\n",
       "  </tbody>\n",
       "</table>\n",
       "</div>"
      ],
      "text/plain": [
       "        X       Y  Y_tile  X_tile country\n",
       "0 -1.4167  7.6389    1101    1660   Ghana\n",
       "1 -1.3611  7.6389    1101    1661   Ghana\n",
       "2 -1.3056  7.6389    1101    1662   Ghana\n",
       "3 -1.4167  7.5833    1100    1660   Ghana\n",
       "4 -1.3611  7.5833    1100    1661   Ghana"
      ]
     },
     "execution_count": 3,
     "metadata": {},
     "output_type": "execute_result"
    }
   ],
   "source": [
    "data.head(5)"
   ]
  },
  {
   "cell_type": "code",
   "execution_count": 5,
   "id": "d4362cca",
   "metadata": {},
   "outputs": [],
   "source": [
    "import subprocess\n",
    "import os\n",
    "for index, row in data.iterrows():\n",
    "    if not os.path.isfile(f\"ashanti/{row['X_tile']}X{row['Y_tile']}Y_FINAL.tif\"):\n",
    "        l = f\"s3://tof-output/2020/tiles/{row['X_tile']}/{row['Y_tile']}/{row['X_tile']}X{row['Y_tile']}Y_FINAL.tif\"\n",
    "        subprocess.run(['aws', 's3', 'cp', l, 'somalia/'])\n",
    "    "
   ]
  },
  {
   "cell_type": "code",
   "execution_count": 30,
   "id": "80d1d084",
   "metadata": {},
   "outputs": [],
   "source": [
    "import subprocess\n",
    "import os\n",
    "for index, row in data.iterrows():\n",
    "    if not os.path.isfile(f\"smooth/{row['X_tile']}X{row['Y_tile']}Y_SMOOTH_X.tif\"):\n",
    "        l = f\"s3://tof-output/2020/tiles/{row['X_tile']}/{row['Y_tile']}/{row['X_tile']}X{row['Y_tile']}Y_SMOOTH_X.tif\"\n",
    "        subprocess.run(['aws', 's3', 'cp', l, 'smooth/'])\n",
    "    "
   ]
  },
  {
   "cell_type": "code",
   "execution_count": 31,
   "id": "61e16fc6",
   "metadata": {},
   "outputs": [],
   "source": [
    "data = data.sort_values(by=['X_tile'], ascending = False)"
   ]
  },
  {
   "cell_type": "code",
   "execution_count": 35,
   "id": "39d1c188",
   "metadata": {},
   "outputs": [],
   "source": [
    "import subprocess\n",
    "import os\n",
    "for index, row in data.iterrows():\n",
    "    file = f\"{row['X_tile']}X{row['Y_tile']}Y_SMOOTH_XY.tif\"\n",
    "    file_x = f\"{row['X_tile']}X{row['Y_tile']}Y_SMOOTH_X.tif\"\n",
    "    file_y = f\"{row['X_tile']}X{row['Y_tile']}Y_SMOOTH_Y.tif\"\n",
    "    \n",
    "    if not os.path.isfile(f\"smooth/{file}\"):\n",
    "        l = f\"s3://tof-output/2020/tiles/{row['X_tile']}/{row['Y_tile']}/{file}\"\n",
    "        subprocess.run(['aws', 's3', 'cp', l, 'smooth/'])\n",
    "        \n",
    "    if not os.path.isfile(f\"smooth/{file}\") and not os.path.isfile(f\"smooth/{file_y}\"):\n",
    "        l = f\"s3://tof-output/2020/tiles/{row['X_tile']}/{row['Y_tile']}/{file_y}\"\n",
    "        subprocess.run(['aws', 's3', 'cp', l, 'smooth/'])\n",
    "        \n",
    "    if not os.path.isfile(f\"smooth/{file}\") and not os.path.isfile(f\"smooth/{file_y}\"):\n",
    "        if not os.path.isfile(f\"smooth/{file_x}\"):\n",
    "            l = f\"s3://tof-output/2020/tiles/{row['X_tile']}/{row['Y_tile']}/{file_x}\"\n",
    "            subprocess.run(['aws', 's3', 'cp', l, 'smooth/'])"
   ]
  },
  {
   "cell_type": "code",
   "execution_count": null,
   "id": "4e94daa6",
   "metadata": {},
   "outputs": [],
   "source": []
  }
 ],
 "metadata": {
  "kernelspec": {
   "display_name": "remote_sensing",
   "language": "python",
   "name": "remote_sensing"
  },
  "language_info": {
   "codemirror_mode": {
    "name": "ipython",
    "version": 3
   },
   "file_extension": ".py",
   "mimetype": "text/x-python",
   "name": "python",
   "nbconvert_exporter": "python",
   "pygments_lexer": "ipython3",
   "version": "3.8.8"
  }
 },
 "nbformat": 4,
 "nbformat_minor": 5
}
