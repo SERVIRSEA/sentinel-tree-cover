{
 "cells": [
  {
   "cell_type": "markdown",
   "metadata": {
    "id": "QaYsS1xmGdRM"
   },
   "source": [
    "# Label Propagation Modeling\n",
    "\n",
    "Description: This notebook demonstrates how to implement label propagation for semi-supervised learning using Python.\n",
    "\n",
    "Prepared by: Kanchana Balasubramanian\n",
    "\n",
    "About Label Propagation:\n",
    "\n",
    "*   Predicts neighboring nodes with notion of similarity\n",
    "*   Suitable for categorical data\n",
    "**    One-hot encoding\n",
    "*   Semi-supervised learning\n",
    "-- Transductive learning – learn unlabeled points from labelled points\n",
    "-- Training with a mix of labeled and unlabeled dataset\n",
    "\n",
    "\n",
    "\n",
    "Label propagation is applied on multiple available datasets such as to generate labels for plantation classes - agroforestry, monoculture and not plantation.The label propagation follows a semi-supervised learning approach using logistic regression and deep learning."
   ]
  },
  {
   "cell_type": "markdown",
   "metadata": {
    "id": "8jXmBPPVHckU"
   },
   "source": [
    "# Region: Costa Rica (CR)\n",
    "\n",
    "\tLabelled high confidence training samples generated from the following datasets:\n",
    "*   CR LULC categories\n",
    "*   SPDT database\n",
    "*   Tropical tree cover (TTC)\n",
    "\n"
   ]
  },
  {
   "cell_type": "code",
   "execution_count": 1,
   "metadata": {
    "colab": {
     "base_uri": "https://localhost:8080/"
    },
    "id": "hELTR-xH7JP9",
    "outputId": "b1ca4616-21e8-4e75-febc-186ce07fa09d"
   },
   "outputs": [
    {
     "name": "stdout",
     "output_type": "stream",
     "text": [
      "Requirement already satisfied: geopandas in /usr/local/lib/python3.10/dist-packages (0.13.2)\n",
      "Requirement already satisfied: scikit-learn in /usr/local/lib/python3.10/dist-packages (1.2.2)\n",
      "Collecting rasterio\n",
      "  Downloading rasterio-1.3.8-cp310-cp310-manylinux_2_17_x86_64.manylinux2014_x86_64.whl (21.3 MB)\n",
      "\u001b[2K     \u001b[90m━━━━━━━━━━━━━━━━━━━━━━━━━━━━━━━━━━━━━━━━\u001b[0m \u001b[32m21.3/21.3 MB\u001b[0m \u001b[31m6.5 MB/s\u001b[0m eta \u001b[36m0:00:00\u001b[0m\n",
      "\u001b[?25hRequirement already satisfied: matplotlib in /usr/local/lib/python3.10/dist-packages (3.7.1)\n",
      "Requirement already satisfied: folium in /usr/local/lib/python3.10/dist-packages (0.14.0)\n",
      "Requirement already satisfied: gdal in /usr/local/lib/python3.10/dist-packages (3.4.3)\n",
      "Requirement already satisfied: fiona>=1.8.19 in /usr/local/lib/python3.10/dist-packages (from geopandas) (1.9.4.post1)\n",
      "Requirement already satisfied: packaging in /usr/local/lib/python3.10/dist-packages (from geopandas) (23.1)\n",
      "Requirement already satisfied: pandas>=1.1.0 in /usr/local/lib/python3.10/dist-packages (from geopandas) (1.5.3)\n",
      "Requirement already satisfied: pyproj>=3.0.1 in /usr/local/lib/python3.10/dist-packages (from geopandas) (3.6.0)\n",
      "Requirement already satisfied: shapely>=1.7.1 in /usr/local/lib/python3.10/dist-packages (from geopandas) (2.0.1)\n",
      "Requirement already satisfied: numpy>=1.17.3 in /usr/local/lib/python3.10/dist-packages (from scikit-learn) (1.22.4)\n",
      "Requirement already satisfied: scipy>=1.3.2 in /usr/local/lib/python3.10/dist-packages (from scikit-learn) (1.10.1)\n",
      "Requirement already satisfied: joblib>=1.1.1 in /usr/local/lib/python3.10/dist-packages (from scikit-learn) (1.3.1)\n",
      "Requirement already satisfied: threadpoolctl>=2.0.0 in /usr/local/lib/python3.10/dist-packages (from scikit-learn) (3.2.0)\n",
      "Collecting affine (from rasterio)\n",
      "  Downloading affine-2.4.0-py3-none-any.whl (15 kB)\n",
      "Requirement already satisfied: attrs in /usr/local/lib/python3.10/dist-packages (from rasterio) (23.1.0)\n",
      "Requirement already satisfied: certifi in /usr/local/lib/python3.10/dist-packages (from rasterio) (2023.7.22)\n",
      "Requirement already satisfied: click>=4.0 in /usr/local/lib/python3.10/dist-packages (from rasterio) (8.1.6)\n",
      "Requirement already satisfied: cligj>=0.5 in /usr/local/lib/python3.10/dist-packages (from rasterio) (0.7.2)\n",
      "Collecting snuggs>=1.4.1 (from rasterio)\n",
      "  Downloading snuggs-1.4.7-py3-none-any.whl (5.4 kB)\n",
      "Requirement already satisfied: click-plugins in /usr/local/lib/python3.10/dist-packages (from rasterio) (1.1.1)\n",
      "Requirement already satisfied: setuptools in /usr/local/lib/python3.10/dist-packages (from rasterio) (67.7.2)\n",
      "Requirement already satisfied: contourpy>=1.0.1 in /usr/local/lib/python3.10/dist-packages (from matplotlib) (1.1.0)\n",
      "Requirement already satisfied: cycler>=0.10 in /usr/local/lib/python3.10/dist-packages (from matplotlib) (0.11.0)\n",
      "Requirement already satisfied: fonttools>=4.22.0 in /usr/local/lib/python3.10/dist-packages (from matplotlib) (4.41.1)\n",
      "Requirement already satisfied: kiwisolver>=1.0.1 in /usr/local/lib/python3.10/dist-packages (from matplotlib) (1.4.4)\n",
      "Requirement already satisfied: pillow>=6.2.0 in /usr/local/lib/python3.10/dist-packages (from matplotlib) (9.4.0)\n",
      "Requirement already satisfied: pyparsing>=2.3.1 in /usr/local/lib/python3.10/dist-packages (from matplotlib) (3.1.0)\n",
      "Requirement already satisfied: python-dateutil>=2.7 in /usr/local/lib/python3.10/dist-packages (from matplotlib) (2.8.2)\n",
      "Requirement already satisfied: branca>=0.6.0 in /usr/local/lib/python3.10/dist-packages (from folium) (0.6.0)\n",
      "Requirement already satisfied: jinja2>=2.9 in /usr/local/lib/python3.10/dist-packages (from folium) (3.1.2)\n",
      "Requirement already satisfied: requests in /usr/local/lib/python3.10/dist-packages (from folium) (2.27.1)\n",
      "Requirement already satisfied: six in /usr/local/lib/python3.10/dist-packages (from fiona>=1.8.19->geopandas) (1.16.0)\n",
      "Requirement already satisfied: MarkupSafe>=2.0 in /usr/local/lib/python3.10/dist-packages (from jinja2>=2.9->folium) (2.1.3)\n",
      "Requirement already satisfied: pytz>=2020.1 in /usr/local/lib/python3.10/dist-packages (from pandas>=1.1.0->geopandas) (2022.7.1)\n",
      "Requirement already satisfied: urllib3<1.27,>=1.21.1 in /usr/local/lib/python3.10/dist-packages (from requests->folium) (1.26.16)\n",
      "Requirement already satisfied: charset-normalizer~=2.0.0 in /usr/local/lib/python3.10/dist-packages (from requests->folium) (2.0.12)\n",
      "Requirement already satisfied: idna<4,>=2.5 in /usr/local/lib/python3.10/dist-packages (from requests->folium) (3.4)\n",
      "Installing collected packages: snuggs, affine, rasterio\n",
      "Successfully installed affine-2.4.0 rasterio-1.3.8 snuggs-1.4.7\n"
     ]
    }
   ],
   "source": [
    "!pip install geopandas scikit-learn rasterio matplotlib folium gdal\n",
    "# Install GDAL and other required libraries\n",
    "#!apt-get install gdal-bin python-gdal python3-gdal\n",
    "\n",
    "import geopandas as gpd\n",
    "import numpy as np\n",
    "from sklearn.semi_supervised import LabelPropagation\n",
    "from sklearn.preprocessing import LabelEncoder\n",
    "import rasterio\n",
    "import random\n",
    "import pandas as pd\n",
    "from shapely.geometry import Point, Polygon"
   ]
  },
  {
   "cell_type": "markdown",
   "metadata": {
    "id": "HGrxu3QaLGnt"
   },
   "source": [
    "Authenticate google drive"
   ]
  },
  {
   "cell_type": "code",
   "execution_count": 2,
   "metadata": {
    "colab": {
     "base_uri": "https://localhost:8080/"
    },
    "id": "HCU0DTDM7duE",
    "outputId": "73510c90-bd0b-4b9b-c6c0-3cc7444e908c"
   },
   "outputs": [
    {
     "name": "stdout",
     "output_type": "stream",
     "text": [
      "Drive already mounted at /content/drive; to attempt to forcibly remount, call drive.mount(\"/content/drive\", force_remount=True).\n"
     ]
    }
   ],
   "source": [
    "from google.colab import drive\n",
    "\n",
    "# This will prompt you to authorize the Colab notebook to access your Google Drive files.\n",
    "drive.mount('/content/drive')"
   ]
  },
  {
   "cell_type": "markdown",
   "metadata": {
    "id": "mrguwfOZLQEo"
   },
   "source": [
    "# Importing labelled data\n",
    "\n",
    "Polygons are converted to points (centroid) in Arcmap and imported as points dataset. The algorithm can be run with points data."
   ]
  },
  {
   "cell_type": "code",
   "execution_count": 3,
   "metadata": {
    "colab": {
     "base_uri": "https://localhost:8080/"
    },
    "id": "16W7BZku70XN",
    "outputId": "34663ff2-9130-4a81-effc-2cdfcb8cd783"
   },
   "outputs": [
    {
     "name": "stdout",
     "output_type": "stream",
     "text": [
      "Index(['Id', 'gridcode', 'Area', 'LULC', 'MERGE_SRC', 'PClass', 'SDPT',\n",
      "       'TTC_thres', 'ORIG_FID', 'POINT_X', 'POINT_Y', 'geometry'],\n",
      "      dtype='object')\n",
      "Id              int64\n",
      "gridcode        int64\n",
      "Area          float64\n",
      "LULC           object\n",
      "MERGE_SRC      object\n",
      "PClass         object\n",
      "SDPT           object\n",
      "TTC_thres       int64\n",
      "ORIG_FID        int64\n",
      "POINT_X       float64\n",
      "POINT_Y       float64\n",
      "geometry     geometry\n",
      "dtype: object\n",
      "   Id  gridcode      Area  LULC                         MERGE_SRC  \\\n",
      "0   7         1  23.06800  palm  Palm0_ttc40_hcpoly_5ha_training1   \n",
      "1  30         1   9.13310  palm  Palm0_ttc40_hcpoly_5ha_training1   \n",
      "2  33         1  38.25650  palm  Palm0_ttc40_hcpoly_5ha_training1   \n",
      "3  35         1   1.58103  palm  Palm0_ttc40_hcpoly_5ha_training1   \n",
      "4  38         1  39.42020  palm  Palm0_ttc40_hcpoly_5ha_training1   \n",
      "\n",
      "        PClass     SDPT  TTC_thres  ORIG_FID    POINT_X    POINT_Y  \\\n",
      "0  monoculture  oilpalm         40         1 -83.598904  10.540394   \n",
      "1  monoculture  oilpalm         40         2 -83.780329  10.496399   \n",
      "2  monoculture  oilpalm         40         3 -83.798637  10.495866   \n",
      "3  monoculture  oilpalm         40         4 -83.770438  10.491470   \n",
      "4  monoculture  oilpalm         40         5 -83.776915  10.492586   \n",
      "\n",
      "                 geometry  \n",
      "0  POINT (-83.599 10.540)  \n",
      "1  POINT (-83.780 10.496)  \n",
      "2  POINT (-83.799 10.496)  \n",
      "3  POINT (-83.770 10.491)  \n",
      "4  POINT (-83.777 10.493)  \n"
     ]
    }
   ],
   "source": [
    "# Import labelled data shapefile from Google Drive\n",
    "labelled_data = '/content/drive/MyDrive/WRI_Internship/Plantationclass_highconf_cr/HighConf_Point.shp'\n",
    "data = gpd.read_file(labelled_data)\n",
    "data.crs = 'EPSG:5367'\n",
    "\n",
    "# Print the column names (features/attributes)\n",
    "print(data.columns)\n",
    "print(data.dtypes)"
   ]
  },
  {
   "cell_type": "markdown",
   "metadata": {
    "id": "CQAiCAYFM-9f"
   },
   "source": [
    "Visualize Costarica boundary and high confidence polygons"
   ]
  },
  {
   "cell_type": "code",
   "execution_count": 4,
   "metadata": {
    "colab": {
     "base_uri": "https://localhost:8080/",
     "height": 598
    },
    "id": "gGXngziQMNbN",
    "outputId": "572a28ba-aa03-48ad-b573-8b032e3a29c4"
   },
   "outputs": [
    {
     "data": {
      "image/png": "[encoded data removed]",
      "text/plain": [
       "<Figure size 1200x1200 with 2 Axes>"
      ]
     },
     "metadata": {},
     "output_type": "display_data"
    }
   ],
   "source": [
    "import matplotlib.pyplot as plt\n",
    "\n",
    "costarica = gpd.read_file('/content/drive/MyDrive/WRI_Internship/Plantationclass_highconf_cr/CRI_boundary/gadm41_CRI_0.shp')\n",
    "highconf_poly = gpd.read_file('/content/drive/MyDrive/WRI_Internship/Plantationclass_highconf_cr/HighConf_poly1.shp')\n",
    "fig, (ax1, ax2) = plt.subplots(1,2, figsize=(12,12))\n",
    "costarica.plot(ax=ax1)\n",
    "highconf_poly.plot(ax=ax2);"
   ]
  },
  {
   "cell_type": "markdown",
   "metadata": {
    "id": "sVnsFjoRLZw8"
   },
   "source": [
    "##Function to generate unlabelled points\n",
    "\n",
    "Unlabelled points are generated using the function here. The points are generated within the Costa Rica boundary map and the points falling within high confidence polygons, which are labelled, are excluded. After exclusion of points not meeting the criteria of falling with the CR bounds and outside the labelled polygons, the function runs back in loop to ensure valid number of points are generated."
   ]
  },
  {
   "cell_type": "code",
   "execution_count": null,
   "metadata": {
    "id": "RAH6Ot-hLH1q"
   },
   "outputs": [],
   "source": [
    "#Function to generate unlabelled points\n",
    "import numpy as np\n",
    "from shapely.geometry import Point, Polygon\n",
    "import pandas as pd\n",
    "import matplotlib.pyplot as plt\n",
    "\n",
    "def random_pts_poly(polygon, exclusion_polygon, number):\n",
    "  valid_points = gpd.GeoDataFrame()\n",
    "\n",
    "  while len(valid_points) < number:\n",
    "\n",
    "    # create random points\n",
    "    minx = polygon.bounds.minx[0]\n",
    "    miny = polygon.bounds.miny[0]\n",
    "    maxx = polygon.bounds.maxx[0]\n",
    "    maxy = polygon.bounds.maxy[0]\n",
    "    x = np.random.uniform( minx, maxx, number )\n",
    "    y = np.random.uniform( miny, maxy, number )\n",
    "\n",
    "    # put in geo dataframe format\n",
    "    df = pd.DataFrame()\n",
    "    df['points'] = list(zip(x,y))\n",
    "    df['points'] = df['points'].apply(Point)\n",
    "    gdf_points = gpd.GeoDataFrame(df, geometry='points', crs = 'EPSG:5367')\n",
    "\n",
    "    # only keep those points within polygons\n",
    "    gdf_points = gdf_points[gdf_points.within(polygon.unary_union)]\n",
    "\n",
    "    print(f'Total points: {len(gdf_points)}')\n",
    "    print(gdf_points.head())\n",
    "\n",
    "    # remove points falling within the high confidence exclusion polygon\n",
    "    points_to_remove = gdf_points[gdf_points.intersects(exclusion_polygon.unary_union)].index\n",
    "    gdf_points = gdf_points.drop(points_to_remove)\n",
    "\n",
    "    valid_points = pd.concat([valid_points, gdf_points], ignore_index=True)\n",
    "\n",
    "  # Keep only the desired number of points\n",
    "  valid_points = valid_points[:number]\n",
    "\n",
    "  print(f'Total points within Costarica and not in high confidence exclusion area: {len(valid_points)}')\n",
    "  print(gdf_points.head())\n",
    "\n",
    "  return valid_points"
   ]
  },
  {
   "cell_type": "code",
   "execution_count": null,
   "metadata": {
    "colab": {
     "base_uri": "https://localhost:8080/"
    },
    "id": "Q0q73BHxMN6S",
    "outputId": "290c8c5d-fcd8-44e1-c263-8f93eb093f2b"
   },
   "outputs": [
    {
     "name": "stdout",
     "output_type": "stream",
     "text": [
      "Total points: 325\n",
      "                        points\n",
      "0   POINT (-84.48344 10.80454)\n",
      "1    POINT (-84.43451 9.79718)\n",
      "3    POINT (-82.61249 9.58896)\n",
      "9    POINT (-83.16109 9.07203)\n",
      "13  POINT (-85.56758 10.75486)\n",
      "Total points: 304\n",
      "                        points\n",
      "3   POINT (-85.19921 10.38880)\n",
      "37   POINT (-83.88793 9.92680)\n",
      "41  POINT (-85.64537 11.14801)\n",
      "54   POINT (-83.78974 9.60804)\n",
      "61   POINT (-82.93755 9.64365)\n",
      "Total points: 345\n",
      "                        points\n",
      "0   POINT (-83.99188 10.18368)\n",
      "3    POINT (-82.96063 9.13064)\n",
      "19  POINT (-85.06152 10.84698)\n",
      "29  POINT (-84.22318 10.01006)\n",
      "31   POINT (-83.53585 9.16435)\n",
      "Total points: 300\n",
      "                        points\n",
      "3    POINT (-84.15661 9.59635)\n",
      "7    POINT (-83.45760 8.52133)\n",
      "14   POINT (-84.89989 9.82146)\n",
      "17  POINT (-84.68048 10.52429)\n",
      "22   POINT (-83.87159 9.66351)\n",
      "Total points: 348\n",
      "                        points\n",
      "9    POINT (-85.19939 9.91715)\n",
      "18  POINT (-85.31636 10.69216)\n",
      "19  POINT (-85.61973 11.13891)\n",
      "21   POINT (-83.37526 9.61312)\n",
      "34   POINT (-83.55922 8.84447)\n",
      "Total points: 329\n",
      "                        points\n",
      "4   POINT (-85.17222 10.99670)\n",
      "17   POINT (-83.27048 9.45616)\n",
      "29   POINT (-83.83125 9.51811)\n",
      "36  POINT (-84.31896 10.32624)\n",
      "42   POINT (-83.28094 8.45372)\n",
      "Total points: 331\n",
      "                        points\n",
      "2   POINT (-85.62954 10.89035)\n",
      "16  POINT (-84.79702 10.11308)\n",
      "21   POINT (-83.83328 9.99299)\n",
      "22   POINT (-83.57354 8.90703)\n",
      "39  POINT (-83.58880 10.75543)\n",
      "Total points within Costarica and not in high confidence exclusion area: 2000\n",
      "                        points\n",
      "2   POINT (-85.62954 10.89035)\n",
      "16  POINT (-84.79702 10.11308)\n",
      "21   POINT (-83.83328 9.99299)\n",
      "22   POINT (-83.57354 8.90703)\n",
      "39  POINT (-83.58880 10.75543)\n"
     ]
    }
   ],
   "source": [
    "#Generate unlabelled points\n",
    "df2 = random_pts_poly(costarica, highconf_poly, 2000)"
   ]
  },
  {
   "cell_type": "markdown",
   "metadata": {
    "id": "MSwC589fN09E"
   },
   "source": [
    "Unlabelled points saved as shapefile so that it doesn't have to be generated repeatedly"
   ]
  },
  {
   "cell_type": "code",
   "execution_count": null,
   "metadata": {
    "id": "UBuKWgZgGzIY"
   },
   "outputs": [],
   "source": [
    "# Save the unlabelled points as a shapefile\n",
    "output_shapefile = \"/content/drive/MyDrive/WRI_Internship/Plantationclass_highconf_cr/output_unlabelledPts.shp\"\n",
    "df2.to_file(output_shapefile)"
   ]
  },
  {
   "cell_type": "markdown",
   "metadata": {
    "id": "FjML1zmXN4Gm"
   },
   "source": [
    "Import the generated unlabelled points if needed"
   ]
  },
  {
   "cell_type": "code",
   "execution_count": 5,
   "metadata": {
    "id": "CXGB2kU5Nvf_"
   },
   "outputs": [],
   "source": [
    "#Once df2 shape file is saved, it can be read from the file\n",
    "# To read df2 from the generated shapefile\n",
    "df2 = gpd.read_file(\"/content/drive/MyDrive/WRI_Internship/Plantationclass_highconf_cr/output_unlabelledPts.shp\")\n",
    "unlabelled_data = df2"
   ]
  },
  {
   "cell_type": "code",
   "execution_count": 6,
   "metadata": {
    "id": "pQ6c_Cd4jmBC"
   },
   "outputs": [],
   "source": [
    "#costarica.plot()"
   ]
  },
  {
   "cell_type": "markdown",
   "metadata": {
    "id": "XdAhPzpcOX-5"
   },
   "source": [
    "Visualize the generated unlabelled points"
   ]
  },
  {
   "cell_type": "code",
   "execution_count": 7,
   "metadata": {
    "colab": {
     "base_uri": "https://localhost:8080/",
     "height": 430
    },
    "id": "kDwscRhQMPZO",
    "outputId": "656ebb2a-78ae-457e-9358-7933441253c5"
   },
   "outputs": [
    {
     "data": {
      "image/png": "[encoded data removed]",
      "text/plain": [
       "<Figure size 640x480 with 1 Axes>"
      ]
     },
     "metadata": {},
     "output_type": "display_data"
    }
   ],
   "source": [
    "ax = costarica.plot()\n",
    "df2.plot(ax=ax, color='red', markersize=0.5)\n",
    "highconf_poly.plot(ax=ax, color='yellow', markersize=0.1);"
   ]
  },
  {
   "cell_type": "markdown",
   "metadata": {
    "id": "LvKDOsnuO0_5"
   },
   "source": [
    "## Data Preparation"
   ]
  },
  {
   "cell_type": "markdown",
   "metadata": {
    "id": "2-hTd4rQOlRf"
   },
   "source": [
    "Validate labelled data for any missing values from the plantation class"
   ]
  },
  {
   "cell_type": "code",
   "execution_count": 9,
   "metadata": {
    "colab": {
     "base_uri": "https://localhost:8080/"
    },
    "id": "0OjYr200KV_a",
    "outputId": "f3fbb29d-db4f-4dc3-d7e5-18ce2d5bd5e8"
   },
   "outputs": [
    {
     "name": "stdout",
     "output_type": "stream",
     "text": [
      "0\n"
     ]
    }
   ],
   "source": [
    "# Extract the feature columns and the label column from the data\n",
    "#feature_cols = ['Id', 'POINT_X', 'POINT_Y']\n",
    "#label_col = 'PClass'\n",
    "\n",
    "# Check missing values\n",
    "print(data['PClass'].isnull().sum())"
   ]
  },
  {
   "cell_type": "markdown",
   "metadata": {
    "id": "5a0jyBmiPDjf"
   },
   "source": [
    "## Add attributes (raster values/polygon attributes) to the labelled and unlabelled points from land use/land cover (LULC) raster, TTC raster, and plantation polygon\n",
    "\n",
    "As a first step, ensuring all datasets are in same projection. EPSG 5327 is used which is a projected CRS. EPSG 5367 is the projection for Costa Rica (Costa Rica Transverse Mercator 2005).\n",
    "\n",
    "Raster values are extracted using a generated function - extract_raster_values. Raster values from TTC and LULC are extracted to labelled and unlabelled data.\n",
    "\n",
    "'originalCo' is the attribute from SDPT plantation polygon dataset. This attribute is used since this has three values coded for orchard, forest plantation, and palm. Further, these three categories were used to generate high confidence polygons. So 'originalCo' attribute was good to be used in modeling; hence importing the 'originalCo' attribute to inputs datasets."
   ]
  },
  {
   "cell_type": "code",
   "execution_count": 10,
   "metadata": {
    "colab": {
     "base_uri": "https://localhost:8080/"
    },
    "id": "HdPPHlY8udel",
    "outputId": "3ed6fbdf-8da8-4c07-e030-263bc5cb95c6"
   },
   "outputs": [
    {
     "name": "stdout",
     "output_type": "stream",
     "text": [
      "Attributes added to points data and saved successfully.\n",
      "   FID                geometry  LULC_value  TTC  index_right  originalCo\n",
      "0    0  POINT (-84.483 10.805)           7   40          NaN         NaN\n",
      "1    1   POINT (-84.435 9.797)           8   90          NaN         NaN\n",
      "2    2   POINT (-82.612 9.589)           8   90          NaN         NaN\n",
      "3    3   POINT (-83.161 9.072)           6   60          NaN         NaN\n",
      "4    4  POINT (-85.568 10.755)           8   90          NaN         NaN\n"
     ]
    },
    {
     "name": "stderr",
     "output_type": "stream",
     "text": [
      "/usr/local/lib/python3.10/dist-packages/IPython/core/interactiveshell.py:3473: FutureWarning: The `op` parameter is deprecated and will be removed in a future release. Please use the `predicate` parameter instead.\n",
      "  if (await self.run_code(code, result,  async_=asy)):\n"
     ]
    }
   ],
   "source": [
    "#add attributes to the points data from land use/land cover (LULC) raster, TTC raster, and plantation polygon\n",
    "\n",
    "# TTC data\n",
    "TTC_raster  = '/content/drive/MyDrive/WRI_Internship/Plantationclass_highconf_cr/TTC/CostaRica_TTC.tif'\n",
    "\n",
    "# LULC raster file\n",
    "lulc_raster = '/content/drive/MyDrive/WRI_Internship/Plantationclass_highconf_cr/CR_LULC_EPSG4326WGS1984/LULC_CR_SINIA_EPSG4326.tif'\n",
    "\n",
    "#SDPT polygon\n",
    "SDPT_poly_path = '/content/drive/MyDrive/WRI_Internship/Plantationclass_highconf_cr/SDPT_CRI/cri_plant_v2.shp'\n",
    "SDPT_poly = gpd.read_file(SDPT_poly_path)\n",
    "\n",
    "#change projection of datasets to EPSG:5367 (projection of LULC layer)\n",
    "crs_code = '5367' #EPSG\n",
    "with rasterio.open(TTC_raster, 'r+') as src:\n",
    "    src.crs = rasterio.crs.CRS.from_epsg(crs_code)\n",
    "with rasterio.open(lulc_raster, 'r+') as src:\n",
    "    src.crs = rasterio.crs.CRS.from_epsg(crs_code)\n",
    "SDPT_poly.crs = crs_code\n",
    "#unlabelled data\n",
    "unlabelled_data = df2\n",
    "# Set the CRS for unlabelled_data\n",
    "unlabelled_data.crs = 'EPSG:5367'\n",
    "\n",
    "def extract_raster_values(raster_path, points_gdf, default_value=0):\n",
    "    with rasterio.open(raster_path) as src:\n",
    "        values = []\n",
    "        for point in points_gdf.geometry:\n",
    "            x, y = point.x, point.y\n",
    "            row, col = src.index(x, y)\n",
    "\n",
    "            # Check if the point is within the raster extent\n",
    "            if 0 <= row < src.height and 0 <= col < src.width:\n",
    "                value = src.read(1, window=((row, row + 1), (col, col + 1)))\n",
    "                values.append(value[0][0])\n",
    "            else:\n",
    "                values.append(default_value)\n",
    "    return values\n",
    "\n",
    "#Add attributes to unlabelled data\n",
    "#extract values from raster\n",
    "unlabelled_data['LULC_value'] = extract_raster_values(lulc_raster, unlabelled_data)\n",
    "unlabelled_data['TTC'] = extract_raster_values(TTC_raster, unlabelled_data)\n",
    "# Convert 'SDPT_poly' DataFrame to a GeoDataFrame\n",
    "SDPT_poly = gpd.GeoDataFrame(SDPT_poly)\n",
    "#Join the points with the SPDT polygon\n",
    "unlabelled_data = gpd.sjoin(unlabelled_data, SDPT_poly[['originalCo', 'geometry']], how='left', op='within')\n",
    "output_points_path = '/path/to/your/output_points_unlabelled.shp'\n",
    "#unlabelled_data.to_file(output_points_path)\n",
    "\n",
    "#Add attributes to labelled data\n",
    "#Add TTC for labelled data\n",
    "data['TTC'] = extract_raster_values(TTC_raster, data)\n",
    "#add LULC value in labelled data\n",
    "data['LULC_value'] = extract_raster_values(lulc_raster, data)\n",
    "#add SDPT 'originalCo' polygon codes in labelled data\n",
    "#Join the points with the SPDT polygon\n",
    "data = gpd.sjoin(data, SDPT_poly[['originalCo', 'geometry']], how='left', op='within')\n",
    "\n",
    "print(\"Attributes added to points data and saved successfully.\")\n",
    "print(\"unlabelled_data\", unlabelled_data.head())\n",
    "print(\"Labelled data\", data.head())"
   ]
  },
  {
   "cell_type": "code",
   "execution_count": 11,
   "metadata": {
    "colab": {
     "base_uri": "https://localhost:8080/"
    },
    "id": "t4Y65dGWRijK",
    "outputId": "422c9d0a-39f8-4cbd-fe89-34ff4964e985"
   },
   "outputs": [
    {
     "name": "stdout",
     "output_type": "stream",
     "text": [
      "   FID                geometry  LULC_value  TTC  index_right  originalCo\n",
      "0    0  POINT (-84.483 10.805)           7   40          NaN         NaN\n",
      "1    1   POINT (-84.435 9.797)           8   90          NaN         NaN\n",
      "2    2   POINT (-82.612 9.589)           8   90          NaN         NaN\n",
      "3    3   POINT (-83.161 9.072)           6   60          NaN         NaN\n",
      "4    4  POINT (-85.568 10.755)           8   90          NaN         NaN\n",
      "[    7     8     6     3     4    30    17  1040     1    23  1010    21\n",
      "    10    20     0    22     9    11    14  1210    15    12  1050  1170\n",
      "  1011    16 65535  1100]\n",
      "['monoculture' 'agroforestry' 'notplantation']\n"
     ]
    }
   ],
   "source": [
    "(SDPT_poly.columns)\n",
    "print(unlabelled_data.head())\n",
    "print(unlabelled_data['LULC_value'].unique())\n",
    "print(data['PClass'].unique())"
   ]
  },
  {
   "cell_type": "markdown",
   "metadata": {
    "id": "CQYLhzEtYXAZ"
   },
   "source": [
    "Check projections of all datasets"
   ]
  },
  {
   "cell_type": "code",
   "execution_count": 12,
   "metadata": {
    "colab": {
     "base_uri": "https://localhost:8080/"
    },
    "id": "8hq92MSp4VNS",
    "outputId": "a5a35538-3093-4246-a75d-cac06adbacdb"
   },
   "outputs": [
    {
     "name": "stdout",
     "output_type": "stream",
     "text": [
      "EPSG:5367\n",
      "EPSG:5367\n",
      "EPSG:5367\n",
      "EPSG:5367\n"
     ]
    }
   ],
   "source": [
    "#check projection\n",
    "print(unlabelled_data.crs)\n",
    "print(SDPT_poly.crs)\n",
    "with rasterio.open(lulc_raster) as src:\n",
    "  crs = src.crs\n",
    "  print(crs)\n",
    "with rasterio.open(TTC_raster) as src:\n",
    "  crs = src.crs\n",
    "  print(crs)"
   ]
  },
  {
   "cell_type": "markdown",
   "metadata": {
    "id": "__ChUPCcYGGM"
   },
   "source": [
    "Visulize LULC map and the unlabelled points"
   ]
  },
  {
   "cell_type": "code",
   "execution_count": null,
   "metadata": {
    "id": "YylcTggFtzn5"
   },
   "outputs": [],
   "source": [
    "#Examine lulc values from the LULC raster\n",
    "from rasterio.plot import show\n",
    "import matplotlib.pyplot as plt\n",
    "\n",
    "lulc_raster = \"/content/drive/MyDrive/WRI_Internship/Plantationclass_highconf_cr/CR_LULC_EPSG4326WGS1984/LULC_CR_SINIA_EPSG4326.tif\"\n",
    "\n",
    "#bx = show(rasterio.open(lulc_raster))\n",
    "\n",
    "#df2.plot(bx=bx, color='red', markersize=0.5)\n",
    "try:\n",
    "  with rasterio.open(TTC_raster) as src:\n",
    "    raster_array = src.read(1)\n",
    "    transform = src.transform\n",
    "  fig, ax = plt.subplots(figsize=(8, 8))\n",
    "  show(raster_array, cmap='viridis', transform=transform, ax=ax)\n",
    "  unlabelled_data.plot(ax=ax, facecolor='none', edgecolor='red', linewidth=0.5)\n",
    "  plt.show()\n",
    "except Exception as e:\n",
    "    print(\"An error occurred:\", e)"
   ]
  },
  {
   "cell_type": "code",
   "execution_count": 13,
   "metadata": {
    "colab": {
     "base_uri": "https://localhost:8080/"
    },
    "id": "2WaeceV8r0NA",
    "outputId": "f2643b98-018f-4e37-97b5-ab200722f08a"
   },
   "outputs": [
    {
     "name": "stdout",
     "output_type": "stream",
     "text": [
      "['agroforestry' 'monoculture' 'notplantation']\n"
     ]
    }
   ],
   "source": [
    "print(np.unique(data['PClass'])) #checking PClass values before encoding it"
   ]
  },
  {
   "cell_type": "markdown",
   "metadata": {
    "id": "tG6sds4yZzkU"
   },
   "source": [
    "## Format and cleanup datasets\n",
    "\n",
    "- Labelled data: encode plantation class (PClass) values\n",
    "- Unlabelled data: Add variables - PClass, X and Y"
   ]
  },
  {
   "cell_type": "code",
   "execution_count": 14,
   "metadata": {
    "colab": {
     "base_uri": "https://localhost:8080/"
    },
    "id": "PWZAYvDHFzmK",
    "outputId": "37525305-4a84-46d3-e683-7733977eb66f"
   },
   "outputs": [
    {
     "name": "stdout",
     "output_type": "stream",
     "text": [
      "Class labels: ['agroforestry' 'monoculture' 'notplantation']\n",
      "Encoded pseudo-labels: [0 1 2]\n"
     ]
    },
    {
     "name": "stderr",
     "output_type": "stream",
     "text": [
      "/usr/local/lib/python3.10/dist-packages/IPython/core/interactiveshell.py:3473: FutureWarning: The `op` parameter is deprecated and will be removed in a future release. Please use the `predicate` parameter instead.\n",
      "  if (await self.run_code(code, result,  async_=asy)):\n"
     ]
    }
   ],
   "source": [
    "#Format datasets\n",
    "\n",
    "# Encode categorical PClass to numerical values\n",
    "label_encoder = LabelEncoder()\n",
    "y_pseudo_labels_encoded = label_encoder.fit_transform(data['PClass'])\n",
    "data['PClass'] = y_pseudo_labels_encoded\n",
    "print(\"Class labels:\", label_encoder.classes_)\n",
    "print(\"Encoded pseudo-labels:\", label_encoder.transform(label_encoder.classes_))\n",
    "\n",
    "#Create null predictor 'Pclass' in unlabelled data\n",
    "unlabelled_data['PClass'] = None\n",
    "# Extract 'point_x' and 'point_y' coordinates from the 'geometry' column\n",
    "unlabelled_data['POINT_X'] = unlabelled_data.geometry.x\n",
    "unlabelled_data['POINT_Y'] = unlabelled_data.geometry.y\n",
    "\n",
    "#check labelled and unlabelled data and attributes\n",
    "print(unlabelled_data.head())\n",
    "print(data.head())"
   ]
  },
  {
   "cell_type": "markdown",
   "metadata": {
    "id": "jVgimP64agq9"
   },
   "source": [
    "Check for null values in the variables that will be used in modeling"
   ]
  },
  {
   "cell_type": "code",
   "execution_count": 2,
   "metadata": {
    "colab": {
     "base_uri": "https://localhost:8080/",
     "height": 239
    },
    "id": "BoGqDNKpgLGF",
    "outputId": "d38e59fb-13d7-4d67-fee7-4a55b719323a"
   },
   "outputs": [
    {
     "ename": "NameError",
     "evalue": "ignored",
     "output_type": "error",
     "traceback": [
      "\u001b[0;31m---------------------------------------------------------------------------\u001b[0m",
      "\u001b[0;31mNameError\u001b[0m                                 Traceback (most recent call last)",
      "\u001b[0;32m<ipython-input-2-5a229b1fb80d>\u001b[0m in \u001b[0;36m<cell line: 2>\u001b[0;34m()\u001b[0m\n\u001b[1;32m      1\u001b[0m \u001b[0;31m#check labelled and unlabelled data and attributes\u001b[0m\u001b[0;34m\u001b[0m\u001b[0;34m\u001b[0m\u001b[0m\n\u001b[0;32m----> 2\u001b[0;31m \u001b[0mprint\u001b[0m\u001b[0;34m(\u001b[0m\u001b[0munlabelled_data\u001b[0m\u001b[0;34m.\u001b[0m\u001b[0mhead\u001b[0m\u001b[0;34m(\u001b[0m\u001b[0;34m)\u001b[0m\u001b[0;34m)\u001b[0m\u001b[0;34m\u001b[0m\u001b[0;34m\u001b[0m\u001b[0m\n\u001b[0m\u001b[1;32m      3\u001b[0m \u001b[0mprint\u001b[0m\u001b[0;34m(\u001b[0m\u001b[0mdata\u001b[0m\u001b[0;34m.\u001b[0m\u001b[0mhead\u001b[0m\u001b[0;34m(\u001b[0m\u001b[0;34m)\u001b[0m\u001b[0;34m)\u001b[0m\u001b[0;34m\u001b[0m\u001b[0;34m\u001b[0m\u001b[0m\n\u001b[1;32m      4\u001b[0m \u001b[0;34m\u001b[0m\u001b[0m\n\u001b[1;32m      5\u001b[0m \u001b[0;31m#check for Nan values\u001b[0m\u001b[0;34m\u001b[0m\u001b[0;34m\u001b[0m\u001b[0m\n",
      "\u001b[0;31mNameError\u001b[0m: name 'unlabelled_data' is not defined"
     ]
    }
   ],
   "source": [
    "#check for Nan values\n",
    "print('null values in unlabelled:', unlabelled_data.isnull().sum())\n",
    "print('null values in labelled:', data.isnull().sum())\n",
    "\n",
    "print(data['PClass'].unique())\n",
    "print(unlabelled_data['PClass'].unique())"
   ]
  },
  {
   "cell_type": "markdown",
   "metadata": {
    "id": "VDXN6vQoao5f"
   },
   "source": [
    "Convert null values:\n",
    "- originalCo values for points that are falling outside the SDPT polygons will have null values. Convert that to zero since the algorithm does not handle null values. For both labelled and unlabelled data.\n",
    "- The label algorithm will be predicting PClass values of unlabelled data. Those values are null and fill the attribute with '-1', since the algorithm needs the unlabelled data predictor variable to have '-1' values."
   ]
  },
  {
   "cell_type": "code",
   "execution_count": 16,
   "metadata": {
    "colab": {
     "base_uri": "https://localhost:8080/"
    },
    "id": "V67UsgYy7IpK",
    "outputId": "513b00f8-fc2d-4d37-8611-d4d3211300ce"
   },
   "outputs": [
    {
     "name": "stdout",
     "output_type": "stream",
     "text": [
      "null values in unlabelled: FID               0\n",
      "geometry          0\n",
      "LULC_value        0\n",
      "TTC               0\n",
      "index_right    1940\n",
      "originalCo        0\n",
      "PClass            0\n",
      "POINT_X           0\n",
      "POINT_Y           0\n",
      "dtype: int64\n",
      "null values in labelled: Id                0\n",
      "gridcode          0\n",
      "Area              0\n",
      "LULC              0\n",
      "MERGE_SRC         0\n",
      "PClass            0\n",
      "SDPT              0\n",
      "TTC_thres         0\n",
      "ORIG_FID          0\n",
      "POINT_X           0\n",
      "POINT_Y           0\n",
      "geometry          0\n",
      "TTC               0\n",
      "LULC_value        0\n",
      "index_right    1313\n",
      "originalCo        0\n",
      "dtype: int64\n",
      "   FID                geometry  LULC_value  TTC  index_right  originalCo  \\\n",
      "0    0  POINT (-84.483 10.805)           7   40          NaN         0.0   \n",
      "1    1   POINT (-84.435 9.797)           8   90          NaN         0.0   \n",
      "2    2   POINT (-82.612 9.589)           8   90          NaN         0.0   \n",
      "3    3   POINT (-83.161 9.072)           6   60          NaN         0.0   \n",
      "4    4  POINT (-85.568 10.755)           8   90          NaN         0.0   \n",
      "\n",
      "   PClass    POINT_X    POINT_Y  \n",
      "0      -1 -84.483444  10.804541  \n",
      "1      -1 -84.434508   9.797179  \n",
      "2      -1 -82.612486   9.588960  \n",
      "3      -1 -83.161090   9.072028  \n",
      "4      -1 -85.567580  10.754863  \n"
     ]
    }
   ],
   "source": [
    "#convert Nan values to zero\n",
    "unlabelled_data['originalCo'] = unlabelled_data['originalCo'].fillna(0)\n",
    "unlabelled_data['PClass'] = unlabelled_data['PClass'].fillna(-1)\n",
    "data['originalCo'] = data['originalCo'].fillna(0)\n",
    "\n",
    "#check again for Nan values\n",
    "print('null values in unlabelled:', unlabelled_data.isnull().sum())\n",
    "print('null values in labelled:', data.isnull().sum())"
   ]
  },
  {
   "cell_type": "markdown",
   "metadata": {
    "id": "_EbWXi0HbqnQ"
   },
   "source": [
    "## Generate Semi-supervised classification dataset\n",
    "- Semi-supervised classification dataset is a mix of training labelled and unlabelled dataset.\n",
    "- 'POINT_X', 'POINT_Y', 'LULC_value', 'TTC', 'originalCo' are the dependent variables (X) used to model and 'PClass' is the predictor variable (Y).\n",
    "- Labelled and unlabelled data are prepared separately for X and Y, before combining them into a mixed training sample.\n",
    "- Labelled data is then split into training labelled and test labelled dataset.\n",
    "- Training labelled and unlabelled are combined to generate mixed training sample.\n",
    "- Test labelled is the hold out dataset to test the accuracy of the model."
   ]
  },
  {
   "cell_type": "code",
   "execution_count": 19,
   "metadata": {
    "colab": {
     "base_uri": "https://localhost:8080/"
    },
    "id": "HjlC9L_TfM_T",
    "outputId": "1cfc366c-6098-42ea-9672-71274ca04d71"
   },
   "outputs": [
    {
     "name": "stdout",
     "output_type": "stream",
     "text": [
      "null values in test_data: POINT_X       0\n",
      "POINT_Y       0\n",
      "LULC_value    0\n",
      "TTC           0\n",
      "originalCo    0\n",
      "PClass        0\n",
      "dtype: int64\n",
      "null values in train_data: POINT_X       0\n",
      "POINT_Y       0\n",
      "LULC_value    0\n",
      "TTC           0\n",
      "originalCo    0\n",
      "PClass        0\n",
      "dtype: int64\n",
      "null values in test_data_unlab: POINT_X       0\n",
      "POINT_Y       0\n",
      "LULC_value    0\n",
      "TTC           0\n",
      "originalCo    0\n",
      "PClass        0\n",
      "dtype: int64\n",
      "null values in mixed_training: POINT_X       0\n",
      "POINT_Y       0\n",
      "LULC_value    0\n",
      "TTC           0\n",
      "originalCo    0\n",
      "PClass        0\n",
      "dtype: int64\n",
      "Labeled Train Set: (1316, 5) (1316,)\n",
      "Unlabeled Train Set: (2000, 5) (2000,)\n",
      "Test Set: (878, 5) (878,)\n",
      "Mixed training data: (3316, 6)\n",
      "        POINT_X    POINT_Y  LULC_value  TTC  originalCo  PClass\n",
      "527  -83.431568   9.237953          22    0      7215.0       2\n",
      "492  -83.666067  10.283372          22    0      7215.0       2\n",
      "1724 -84.840424   9.974095           9  255         0.0       2\n",
      "1217 -83.209179   8.772767           7   80         2.0       2\n",
      "685  -83.771953  10.282971           8   40         0.0       2\n"
     ]
    }
   ],
   "source": [
    "#Generate mixed training dataset - labeled + unlabeled\n",
    "from sklearn.model_selection import train_test_split\n",
    "import pandas as pd\n",
    "\n",
    "#Create testing and training data from labelled data\n",
    "X = data[['POINT_X', 'POINT_Y', 'LULC_value', 'TTC', 'originalCo']]\n",
    "Y = data['PClass']\n",
    "\n",
    "#Create X and Y with unlabelled data\n",
    "X_unlab = unlabelled_data[['POINT_X', 'POINT_Y', 'LULC_value', 'TTC', 'originalCo']]\n",
    "Y_unlab = unlabelled_data['PClass']\n",
    "\n",
    "X_train, X_test, Y_train, Y_test = train_test_split(X, Y, test_size=0.4, random_state=5, stratify=Y)\n",
    "X_test_unlab, Y_test_unlab = (X_unlab,Y_unlab)\n",
    "\n",
    "#Create mixed Training data - labelled data and unlabelled data\n",
    "test_data = pd.concat([X_test, Y_test], axis=1)\n",
    "train_data = pd.concat([X_train, Y_train], axis=1)\n",
    "test_data_unlab = X_test_unlab.copy()\n",
    "test_data_unlab['PClass'] = Y_test_unlab\n",
    "mixed_training = pd.concat([train_data, test_data_unlab])\n",
    "\n",
    "#convert Nan values to zero\n",
    "#mixed_training['originalCo'] = mixed_training['originalCo'].fillna(0)\n",
    "#mixed_training['PClass'] = mixed_training['PClass'].fillna(0)\n",
    "\n",
    "#check for Nan values\n",
    "print('null values in test_data:', test_data.isnull().sum())\n",
    "print('null values in train_data:', train_data.isnull().sum())\n",
    "print('null values in test_data_unlab:', test_data_unlab.isnull().sum())\n",
    "print('null values in mixed_training:', mixed_training.isnull().sum())\n",
    "\n",
    "# summarize training set size\n",
    "print('Labeled Train Set:', X_train.shape, Y_train.shape)\n",
    "print('Unlabeled Train Set:', X_test_unlab.shape, Y_test_unlab.shape)\n",
    "\n",
    "# summarize test set size\n",
    "print('Test Set:', X_test.shape, Y_test.shape)\n",
    "\n",
    "#shape of mixed training data\n",
    "print('Mixed training data:', mixed_training.shape)\n",
    "print(mixed_training.head())"
   ]
  },
  {
   "cell_type": "markdown",
   "metadata": {
    "id": "iTVh2P7pdef0"
   },
   "source": [
    "## Semi-supervised Label Propagation algorithm\n",
    "## Model 1: Semi-supervised Label Propagation Model with Logistic Regression Learning\n",
    "- Inputs to the label propagation algorithm is a mixed training data of labelled and unlabelled dataset that was prepared in previous steps.\n",
    "-- Input variables: 'POINT_X', 'POINT_Y', 'LULC_value', 'TTC', 'originalCo' are the dependent variables (X) used to model and 'PClass' is the predictor variable (Y).\n",
    "- Label propagation propagates labels along the neighbourhood and hence using K nearest neighbours would be useful to ensure the predicted label is a representation of a larger polygon. The KNN kernel assigns pseudo-labels to unlabeled data points based on the labels of their K nearest labeled neighbors. In the below code, 14 nearest neighbour pixels will be assessed for generating the predictor labels.\n",
    "- Label propagation algorithm is first applied on the mixed training dataset. The model performs transductive learning, by learning from the labelled data and predicts the unlabelled PClass.\n",
    "- Using these generated predictions, which are called trans labels, Model 1 performs a supervised learning using logistic regression, making sure the regression is performed for 3 predictor variables."
   ]
  },
  {
   "cell_type": "code",
   "execution_count": 32,
   "metadata": {
    "colab": {
     "base_uri": "https://localhost:8080/"
    },
    "id": "2AnxYthTchf4",
    "outputId": "287ecf1c-5af9-4783-d407-8f7143b5caea"
   },
   "outputs": [
    {
     "name": "stdout",
     "output_type": "stream",
     "text": [
      "Accuracy of label prop: 99.658\n",
      "Accuracy of semi-supervised label prop - logreg: 81.435\n"
     ]
    }
   ],
   "source": [
    "#Label propagatin model\n",
    "from sklearn.metrics import accuracy_score\n",
    "from sklearn.linear_model import LogisticRegression\n",
    "import tensorflow as tf\n",
    "from tensorflow import keras\n",
    "\n",
    "# Preprocess the data and extract numerical features\n",
    "X_train_mixed = mixed_training[['POINT_X', 'POINT_Y', 'LULC_value', 'TTC', 'originalCo']]\n",
    "y_train_mixed = mixed_training[['PClass']]\n",
    "y_train_mixed = y_train_mixed.values.ravel() #converting to 1D array\n",
    "\n",
    "# Encode categorical labels to numerical values\n",
    "#label_encoder = LabelEncoder()\n",
    "#y_train_mixed = label_encoder.fit_transform(mixed_training['PClass'])\n",
    "\n",
    "#print(\"Class labels:\", label_encoder.classes_)\n",
    "#print(\"Encoded pseudo-labels:\", y_train_mixed)\n",
    "\n",
    "# Model1: Label propagation model\n",
    "label_prop_model = LabelPropagation(kernel='knn', n_neighbors=14)\n",
    "\n",
    "# Fit the model with labeled and unlabeled data\n",
    "label_prop_model.fit(X_train_mixed, y_train_mixed)\n",
    "# make predictions on hold out test set\n",
    "yhat = label_prop_model.predict(X_test)\n",
    "\n",
    "# calculate score for test set\n",
    "score = accuracy_score(Y_test, yhat)\n",
    "print('Accuracy of label prop: %.3f' % (score*100))\n",
    "\n",
    "# get labels for entire training dataset data\n",
    "tran_labels = label_prop_model.transduction_\n",
    "\n",
    "#Model2:supervised learning model with logistic regression\n",
    "# define supervised learning model\n",
    "model2 = LogisticRegression(multi_class='ovr', max_iter=2000) #OvR (One-vs-Rest) strategy to handle multi-class classification\n",
    "# fit supervised learning model on entire training dataset\n",
    "model2.fit(X_train_mixed, tran_labels)\n",
    "# make predictions on hold out test set\n",
    "yhat2 = model2.predict(X_test)\n",
    "# calculate score for test set\n",
    "score2 = accuracy_score(Y_test, yhat2)\n",
    "print('Accuracy of semi-supervised label prop - logreg: %.3f' % (score2*100))"
   ]
  },
  {
   "cell_type": "markdown",
   "metadata": {
    "id": "3S_-YWN-d4xn"
   },
   "source": []
  },
  {
   "cell_type": "markdown",
   "metadata": {
    "id": "RDc3XgMDjAfG"
   },
   "source": [
    "## Save the predicted labels"
   ]
  },
  {
   "cell_type": "code",
   "execution_count": 31,
   "metadata": {
    "colab": {
     "base_uri": "https://localhost:8080/"
    },
    "id": "lM0aoifOfIhZ",
    "outputId": "3437c97c-2ece-4117-dff1-baac833eded7"
   },
   "outputs": [
    {
     "name": "stderr",
     "output_type": "stream",
     "text": [
      "<ipython-input-31-0a70f1c18653>:16: UserWarning: Column names longer than 10 characters will be truncated when saved to ESRI Shapefile.\n",
      "  mixed_training_gdf.to_file(labelled_shapefile_path, driver='ESRI Shapefile')\n",
      "WARNING:fiona._env:Normalized/laundered field name: 'predicted_labels' to 'predicted_'\n"
     ]
    }
   ],
   "source": [
    "from shapely.geometry import Point, Polygon\n",
    "# Predict labels for the unlabeled data\n",
    "#y_pred = label_prop_model.transduction_\n",
    "\n",
    "# Inverse transform numerical labels back to original class labels\n",
    "y_pred_original_labels = label_encoder.inverse_transform(tran_labels)\n",
    "\n",
    "# Assign predicted labels to the mixed training dataframe\n",
    "mixed_training['predicted_labels'] = y_pred_original_labels\n",
    "geometry = [Point(x, y) for x, y in zip(mixed_training['POINT_X'], mixed_training['POINT_Y'])]\n",
    "mixed_training_gdf = gpd.GeoDataFrame(mixed_training, geometry = geometry)\n",
    "#print('mixed_training_gdf', mixed_training_gdf.head)\n",
    "\n",
    "# Save the results to a shapefile\n",
    "labelled_shapefile_path = '/content/drive/MyDrive/WRI_Internship/Plantationclass_highconf_cr/output_labelled_shapefile.shp'\n",
    "mixed_training_gdf.to_file(labelled_shapefile_path, driver='ESRI Shapefile')"
   ]
  },
  {
   "cell_type": "markdown",
   "metadata": {
    "id": "zh-5hp38i-DC"
   },
   "source": [
    "## Semi-supervised Label Propagation algorithm\n",
    "## Model 2: Semi-supervised Label Propagation Model with Deep Learning\n",
    "- Deep learning is used as the supervised learning to assess for improvement in the model performance"
   ]
  },
  {
   "cell_type": "code",
   "execution_count": 29,
   "metadata": {
    "colab": {
     "base_uri": "https://localhost:8080/",
     "height": 849
    },
    "id": "2jOKOcbhNqge",
    "outputId": "2a350761-a585-4b7a-eaf6-bedfe646de92"
   },
   "outputs": [
    {
     "name": "stdout",
     "output_type": "stream",
     "text": [
      "num_classes 3\n",
      "Epoch 1/20\n",
      "208/208 [==============================] - 1s 2ms/step - loss: 5.7837 - accuracy: 0.6429\n",
      "Epoch 2/20\n",
      "208/208 [==============================] - 0s 2ms/step - loss: 2.8315 - accuracy: 0.7639\n",
      "Epoch 3/20\n",
      "208/208 [==============================] - 1s 2ms/step - loss: 2.5695 - accuracy: 0.7940\n",
      "Epoch 4/20\n",
      "208/208 [==============================] - 1s 3ms/step - loss: 1.8303 - accuracy: 0.8251\n",
      "Epoch 5/20\n",
      "208/208 [==============================] - 0s 2ms/step - loss: 1.3306 - accuracy: 0.8607\n",
      "Epoch 6/20\n",
      "208/208 [==============================] - 1s 3ms/step - loss: 1.1411 - accuracy: 0.8664\n",
      "Epoch 7/20\n",
      "208/208 [==============================] - 1s 3ms/step - loss: 0.7994 - accuracy: 0.8848\n",
      "Epoch 8/20\n",
      "208/208 [==============================] - 1s 3ms/step - loss: 0.8246 - accuracy: 0.9065\n",
      "Epoch 9/20\n",
      "208/208 [==============================] - 1s 3ms/step - loss: 0.7871 - accuracy: 0.9210\n",
      "Epoch 10/20\n",
      "208/208 [==============================] - 1s 3ms/step - loss: 0.8535 - accuracy: 0.9222\n",
      "Epoch 11/20\n",
      "208/208 [==============================] - 1s 3ms/step - loss: 0.6655 - accuracy: 0.9189\n",
      "Epoch 12/20\n",
      "208/208 [==============================] - 1s 3ms/step - loss: 1.1363 - accuracy: 0.9255\n",
      "Epoch 13/20\n",
      "208/208 [==============================] - 1s 3ms/step - loss: 0.5800 - accuracy: 0.9391\n",
      "Epoch 14/20\n",
      "208/208 [==============================] - 0s 2ms/step - loss: 0.8575 - accuracy: 0.9331\n",
      "Epoch 15/20\n",
      "208/208 [==============================] - 0s 2ms/step - loss: 0.4997 - accuracy: 0.9400\n",
      "Epoch 16/20\n",
      "208/208 [==============================] - 0s 2ms/step - loss: 0.6237 - accuracy: 0.9478\n",
      "Epoch 17/20\n",
      "208/208 [==============================] - 0s 2ms/step - loss: 0.7696 - accuracy: 0.9439\n",
      "Epoch 18/20\n",
      "208/208 [==============================] - 0s 2ms/step - loss: 0.3038 - accuracy: 0.9521\n",
      "Epoch 19/20\n",
      "208/208 [==============================] - 0s 2ms/step - loss: 1.1231 - accuracy: 0.9508\n",
      "Epoch 20/20\n",
      "208/208 [==============================] - 0s 2ms/step - loss: 0.5982 - accuracy: 0.9505\n",
      "28/28 [==============================] - 0s 2ms/step\n",
      "Accuracy of semi supervised label prop - deep learning: 96.128\n"
     ]
    },
    {
     "data": {
      "application/vnd.google.colaboratory.intrinsic+json": {
       "type": "string"
      },
      "text/plain": [
       "\"\\n# Predict labels for the unlabeled data\\ny_pred = label_prop_model.transduction_\\n\\n# Inverse transform numerical labels back to original class labels\\ny_pred_original_labels = label_encoder.inverse_transform(y_pred)\\n\\n# Assign the predicted labels to the dataframe\\ndata['predicted_labels'] = y_pred_original_labels\\n\\n# Save the results to a new shapefile or update the existing one\\n#output_shapefile_path = '/content/drive/My Drive/path/to/output_shapefile.shp'\\ndata.to_file(output_shapefile_path, driver='ESRI Shapefile')\\n\""
      ]
     },
     "execution_count": 29,
     "metadata": {},
     "output_type": "execute_result"
    }
   ],
   "source": [
    "#Model3:semi-supervised learning with deep learning\n",
    "num_classes = len(np.unique(Y_train))\n",
    "#y_train_one_hot = keras.utils.to_categorical(y_train_mixed, num_classes=num_classes)\n",
    "#tran_labels_one_hot = keras.utils.to_categorical(tran_labels, num_classes=num_classes)\n",
    "\n",
    "print('num_classes', num_classes)\n",
    "#print('tran_labels_one_hot', tran_labels_one_hot)\n",
    "\n",
    "#Model\n",
    "model3 = keras.Sequential([\n",
    "    keras.layers.Dense(64, activation='relu', input_shape=(X_train_mixed.shape[1],)),\n",
    "    keras.layers.Dense(32, activation='relu'),\n",
    "    keras.layers.Dense(num_classes, activation='softmax')\n",
    "])\n",
    "# Model\n",
    "model3.compile(optimizer='adam', loss='sparse_categorical_crossentropy', metrics=['accuracy'])\n",
    "# Train the model on the combined labeled and pseudo-labeled data\n",
    "model3.fit(X_train_mixed, tran_labels, epochs=20, batch_size=16, verbose=1)\n",
    "# make predictions on hold out test set\n",
    "yhat3 = model3.predict(X_test)\n",
    "yhat3_classes = np.argmax(yhat3, axis=1)\n",
    "\n",
    "# calculate score for test set\n",
    "score3 = accuracy_score(Y_test, yhat3_classes)\n",
    "# summarize score\n",
    "print('Accuracy of semi supervised label prop - deep learning: %.3f' % (score3*100))"
   ]
  }
 ],
 "metadata": {
  "colab": {
   "provenance": []
  },
  "kernelspec": {
   "display_name": "Python 3",
   "language": "python",
   "name": "python3"
  },
  "language_info": {
   "codemirror_mode": {
    "name": "ipython",
    "version": 3
   },
   "file_extension": ".py",
   "mimetype": "text/x-python",
   "name": "python",
   "nbconvert_exporter": "python",
   "pygments_lexer": "ipython3",
   "version": "3.8.8"
  }
 },
 "nbformat": 4,
 "nbformat_minor": 1
}
