{
 "cells": [
  {
   "cell_type": "code",
   "execution_count": 1,
   "metadata": {},
   "outputs": [],
   "source": [
    "import os\n",
    "import pandas as pd\n",
    "import utm\n",
    "from pyproj import CRS\n",
    "import hickle as hkl\n",
    "from scipy.ndimage import zoom\n",
    "import rasterio\n",
    "from rasterio.transform import from_origin\n",
    "import geoarray as ga\n",
    "import numpy as np\n",
    "from arosics import COREG_LOCAL\n",
    "import geopandas as gpd\n",
    "from shapely import Point\n"
   ]
  },
  {
   "cell_type": "code",
   "execution_count": 2,
   "metadata": {},
   "outputs": [],
   "source": [
    "def get_crs(latitude, utminfo):\n",
    "    if latitude>0:\n",
    "        abool = False\n",
    "    else: abool = True\n",
    "    crs=CRS.from_dict({'proj':'utm', 'zone' : utminfo[2], 'south': abool})\n",
    "    return crs\n"
   ]
  },
  {
   "cell_type": "code",
   "execution_count": 9,
   "metadata": {},
   "outputs": [],
   "source": [
    "def make_points(easting, northing):\n",
    "    firstx = easting + 5\n",
    "    firsty = northing - 5\n",
    "    yvals = []\n",
    "    xvals = []\n",
    "    def ypts(y):\n",
    "        if y>firsty-270:\n",
    "            y=y-10\n",
    "            yvals.append(y)\n",
    "            ypts(y)\n",
    "    def xpts(x):\n",
    "        if x<firstx+270:\n",
    "            x=x+10\n",
    "            xvals.append(x)\n",
    "            xpts(x)\n",
    "    ypts(firsty)\n",
    "    yvals.append(firsty)\n",
    "    xpts(firstx)\n",
    "    xvals.append(firstx)\n",
    "    coords = []\n",
    "    \n",
    "    coords = [str(Point(i, j)) for i, j in zip(xvals, yvals)]\n",
    "    \n",
    "    \n",
    "    for i in range(len(xvals)):\n",
    "        for j in range(len(yvals)):\n",
    "            pts = Point(xvals[i], yvals[j])\n",
    "            coords.append(pts)\n",
    "    for i in range(len(coords)):\n",
    "        coords[i] = str(coords[i])\n",
    "\n",
    "    coords = gpd.GeoSeries.from_wkt(coords)\n",
    "    table = pd.DataFrame()\n",
    "    table['idx']= [idx]*len(coords)\n",
    "    shp = gpd.GeoDataFrame(table, geometry=coords, crs=crs)\n",
    "    outpath = os.path.join(\"corr_points\", \"points\" + str(idx) + \".shp\")\n",
    "    shp.to_file(outpath)\n",
    "\n"
   ]
  },
  {
   "cell_type": "code",
   "execution_count": 10,
   "metadata": {},
   "outputs": [],
   "source": [
    "os.chdir(r'C:\\Users\\Gautam.Mathur\\coregout')\n",
    "#os.mkdir(\"corr_points\")\n",
    "data = data = pd.read_csv(r\"C:\\Users\\Gautam.Mathur\\OneDrive - World Resources Institute\\Gautam Intern Materials\\chm-master-clean.csv\")\n",
    "for idx in range(1, 30):\n",
    "    latitude = data.lat[idx]\n",
    "    longitude = data.lon[idx]\n",
    "    utminfo = utm.from_latlon(latitude, longitude)\n",
    "    easting = utminfo[0]-140\n",
    "    northing = utminfo[1]+140\n",
    "    crs = get_crs(latitude, utminfo)\n",
    "    make_points(easting, northing)\n",
    "    "
   ]
  }
 ],
 "metadata": {
  "kernelspec": {
   "display_name": "Python 3",
   "language": "python",
   "name": "python3"
  },
  "language_info": {
   "codemirror_mode": {
    "name": "ipython",
    "version": 3
   },
   "file_extension": ".py",
   "mimetype": "text/x-python",
   "name": "python",
   "nbconvert_exporter": "python",
   "pygments_lexer": "ipython3",
   "version": "3.8.8"
  }
 },
 "nbformat": 4,
 "nbformat_minor": 2
}
