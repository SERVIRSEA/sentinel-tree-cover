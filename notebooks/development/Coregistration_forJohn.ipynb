{
 "cells": [
  {
   "cell_type": "code",
   "execution_count": null,
   "metadata": {},
   "outputs": [],
   "source": [
    "import os\n",
    "import pandas as pd\n",
    "import utm\n",
    "from pyproj import CRS\n",
    "import hickle as hkl\n",
    "from scipy.ndimage import zoom\n",
    "import rasterio\n",
    "from rasterio.transform import from_origin\n",
    "import geoarray as ga\n",
    "import numpy as np\n",
    "from arosics import COREG_LOCAL\n",
    "\n"
   ]
  },
  {
   "cell_type": "code",
   "execution_count": null,
   "metadata": {},
   "outputs": [],
   "source": [
    "# import latlong point, use pyproj to find out crs\n",
    "def get_crs(latitude, utminfo):\n",
    "    if latitude>0:\n",
    "        abool = False\n",
    "    else: abool = True\n",
    "    crs=CRS.from_dict({'proj':'utm', 'zone' : utminfo[2], 'south': abool})\n",
    "    return crs"
   ]
  },
  {
   "cell_type": "code",
   "execution_count": null,
   "metadata": {},
   "outputs": [],
   "source": [
    "def unsample_sentinel(data, idx, crs, utminfo):\n",
    "    month=int(data.tile_acq_date[idx][:data.tile_acq_date[idx].find('/')]) # extract month from wv image acquisition date, so correct month of s2 can be selected\n",
    "    s2_path = r\"C:\\Users\\Gautam.Mathur\\OneDrive - World Resources Institute\\Gautam Intern Materials\\sentinel2\\chm-sentinel2\"\n",
    "    s2=hkl.load(f\"{s2_path}\\{data.plotid[idx]}.hkl\")\n",
    "\n",
    "    red = s2[month-1, :, :, 2] /65535\n",
    "    green = s2[month-1, :, : ,1] / 65535\n",
    "    blue = s2[month-1, :, :, 0] /65535\n",
    "    newarrays = []\n",
    "    for i in [red, green, blue]:\n",
    "        img = zoom(i, zoom=4, order=3)\n",
    "        newarrays.append(img)\n",
    "    pixelsize = 280/newarrays[1].shape[0]\n",
    "    top_left_easting = utminfo[0]-140\n",
    "    top_left_northing = utminfo[1]+140\n",
    "    transform = from_origin(top_left_easting, top_left_northing, pixelsize, pixelsize)\n",
    "    s2name = 's2' + str(idx) + '.tif'\n",
    "    s2raster = rasterio.open(s2name, 'w', driver='GTiff', height=newarrays[0].shape[0], width=newarrays[0].shape[1], dtype='float32', crs=crs, transform=transform, count=3)\n",
    "    s2raster.write(newarrays[0], 1)\n",
    "    s2raster.write(newarrays[1], 2)\n",
    "    s2raster.write(newarrays[2], 3)\n",
    "    s2raster.close()"
   ]
  },
  {
   "cell_type": "code",
   "execution_count": null,
   "metadata": {},
   "outputs": [],
   "source": [
    "def resample_wv(data, idx, crs, utminfo):\n",
    "    worldview_path = r'C:\\Users\\Gautam.Mathur\\OneDrive - World Resources Institute\\Gautam Intern Materials\\worldview-labels-heightpreds\\chm-preds'\n",
    "    maxar = rasterio.open(f\"{worldview_path}\\{data.filename[idx]}\").read().astype(np.float32) / 255\n",
    "    maxarrays = [maxar[0], maxar[1], maxar[2]]\n",
    "    maxar5 = []\n",
    "    for i in maxarrays:\n",
    "        img = zoom(i, zoom=1/5, order=3)\n",
    "        maxar5.append(img)\n",
    "    pixelsize = 0.59*maxarrays[1].shape[0]/maxar5[1].shape[0]\n",
    "    top_left_easting = utminfo[0]-70\n",
    "    top_left_northing = utminfo[1]+70\n",
    "    transform = from_origin(top_left_easting, top_left_northing, pixelsize, pixelsize)\n",
    "    wvname = \"wv\" + str(idx) + \".tif\"\n",
    "    wvraster = rasterio.open(wvname, 'w', driver='GTiff', height=maxar5[0].shape[0], \n",
    "                         width=maxar5[0].shape[1], dtype='float32', crs=crs, transform=transform, count=3)\n",
    "    wvraster.write(maxar5[0], 1)\n",
    "    wvraster.write(maxar5[1], 2)\n",
    "    wvraster.write(maxar5[2], 3)\n",
    "    wvraster.close()\n",
    "#0.59 m GSD"
   ]
  },
  {
   "cell_type": "code",
   "execution_count": null,
   "metadata": {},
   "outputs": [],
   "source": [
    "def coreg(idx, folder):\n",
    "    im_reference = 'wv' + str(idx) + \".tif\"\n",
    "    im_target = 's2' + str(idx) + \".tif\"\n",
    "    outpath = os.path.join(folder, 'coreg'+str(idx)+\".bsq\")\n",
    "    kwargs = {\n",
    "        'grid_res' : 2, \n",
    "        'window_size' : (18, 18),\n",
    "        'path_out' : outpath,\n",
    "        'projectDir' : folder,\n",
    "        'max_shift' : 10, #this is in number of pixels. I wrote 10 because resampled spatial resolution of wv ~ 2.95. There is a default max shift of 5 pixels, so we are expanding max shift in this case. \n",
    "        'q' : False,}\n",
    "    CRL = COREG_LOCAL(im_reference,im_target,**kwargs, min_reliability=0)\n",
    "    CRL.correct_shifts()"
   ]
  },
  {
   "cell_type": "code",
   "execution_count": null,
   "metadata": {},
   "outputs": [],
   "source": [
    "def resample_result(crs, idx, utminfo):\n",
    "    path = 'coreg'+str(idx)+\".bsq\"\n",
    "    bsq = rasterio.open(path).read().astype(np.float32)\n",
    "    shiftarrays = []\n",
    "    for i in [bsq[0], bsq[1], bsq[2]]:\n",
    "        img=zoom(i, zoom=1/4, order=3)\n",
    "        shiftarrays.append(img)\n",
    "    pixelsize = 10\n",
    "    top_left_easting = utminfo[0]-140\n",
    "    top_left_northing = utminfo[1]+140\n",
    "    from rasterio.transform import from_origin\n",
    "    transform = from_origin(top_left_easting, top_left_northing, pixelsize, pixelsize)\n",
    "    finalpath = os.path.join(\"resampled_results\", str(idx)+\"final.tif\")\n",
    "    cr110m = rasterio.open(finalpath, 'w', driver='GTiff', height=shiftarrays[0].shape[0], \n",
    "                            width=shiftarrays[0].shape[1], dtype='float32', crs=crs, transform=transform, count=3)\n",
    "    cr110m.write(shiftarrays[0], 1)\n",
    "    cr110m.write(shiftarrays[1], 2)\n",
    "    cr110m.write(shiftarrays[2], 3)\n",
    "    cr110m.close()\n"
   ]
  },
  {
   "cell_type": "code",
   "execution_count": null,
   "metadata": {},
   "outputs": [],
   "source": [
    "os.chdir(r'C:\\Users\\Gautam.Mathur\\All_Images')\n",
    "#os.mkdir(\"resampled_results\")\n",
    "data = data = pd.read_csv(r\"C:\\Users\\Gautam.Mathur\\OneDrive - World Resources Institute\\Gautam Intern Materials\\chm-master-clean.csv\")\n",
    "folder = r'C:\\Users\\Gautam.Mathur\\All_Images'\n",
    "for idx in range(0, len(data.lon)):\n",
    "    latitude = data.lat[idx]\n",
    "    longitude = data.lon[idx]\n",
    "    utminfo = utm.from_latlon(latitude, longitude)\n",
    "    crs = get_crs(latitude, utminfo)\n",
    "    unsample_sentinel(data, idx, crs, utminfo)\n",
    "    resample_wv(data, idx, crs, utminfo)\n",
    "    coreg(idx, folder)\n",
    "    resample_result(crs, idx, utminfo)"
   ]
  }
 ],
 "metadata": {
  "kernelspec": {
   "display_name": "Python 3",
   "language": "python",
   "name": "python3"
  },
  "language_info": {
   "codemirror_mode": {
    "name": "ipython",
    "version": 3
   },
   "file_extension": ".py",
   "mimetype": "text/x-python",
   "name": "python",
   "nbconvert_exporter": "python",
   "pygments_lexer": "ipython3",
   "version": "3.8.8"
  }
 },
 "nbformat": 4,
 "nbformat_minor": 2
}
