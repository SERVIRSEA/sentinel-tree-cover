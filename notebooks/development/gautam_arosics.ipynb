{
 "cells": [
  {
   "cell_type": "code",
   "execution_count": 24,
   "metadata": {},
   "outputs": [],
   "source": [
    "import os\n",
    "import pandas as pd\n",
    "import utm\n",
    "from pyproj import CRS\n",
    "import hickle as hkl\n",
    "from scipy.ndimage import zoom\n",
    "import rasterio\n",
    "from rasterio.transform import from_origin\n",
    "import geoarray as ga\n",
    "import numpy as np\n",
    "from arosics import COREG_LOCAL\n",
    "os.chdir(r'C:\\Users\\Gautam.Mathur\\coregout')"
   ]
  },
  {
   "cell_type": "code",
   "execution_count": 1,
   "metadata": {},
   "outputs": [],
   "source": [
    "#setup\n",
    "idx=24\n",
    "data = pd.read_csv(r\"C:\\Users\\Gautam.Mathur\\OneDrive - World Resources Institute\\Gautam Intern Materials\\chm-master-clean.csv\")"
   ]
  },
  {
   "cell_type": "code",
   "execution_count": 2,
   "metadata": {},
   "outputs": [],
   "source": [
    "# import latlong point, use pyproj to find out crs\n",
    "latitude = data.lat[idx]\n",
    "longitude = data.lon[idx]\n",
    "\n",
    "\n",
    "utminfo = utm.from_latlon(latitude, longitude)\n",
    "if latitude>0:\n",
    "    bool = False\n",
    "else: bool = True\n",
    "crs=CRS.from_dict({'proj':'utm', 'zone' : utminfo[2], 'south': bool})"
   ]
  },
  {
   "cell_type": "code",
   "execution_count": 4,
   "metadata": {},
   "outputs": [],
   "source": [
    "#import sentinel2 image bands, apply bicubic unsampling to all bands, stack into rasterio object with geographic reference\n",
    "month=int(data.tile_acq_date[idx][:data.tile_acq_date[idx].find('/')]) # extract month from wv image acquisition date, so correct month of s2 can be selected\n",
    "s2_path = r\"C:\\Users\\Gautam.Mathur\\OneDrive - World Resources Institute\\Gautam Intern Materials\\sentinel2\\chm-sentinel2\"\n",
    "s2=hkl.load(f\"{s2_path}\\{data.plotid[idx]}.hkl\")\n",
    "\n",
    "#I wonder if the wv2 and \n",
    "red = s2[month-1, ..., 2] /65535\n",
    "green = s2[month-1, :, : ,1] / 65535\n",
    "blue = s2[month-1, :, :, 0] /65535\n",
    "\n",
    "\n",
    "newarrays = []\n",
    "for i in [red, green, blue]:\n",
    "    img = zoom(i, zoom=4, order=3)\n",
    "    newarrays.append(img)\n",
    "\n",
    "pixelsize = 280/newarrays[1].shape[0]\n",
    "top_left_easting = utminfo[0]-140\n",
    "top_left_northing = utminfo[1]+140\n",
    "\n",
    "transform = from_origin(top_left_easting, top_left_northing, pixelsize, pixelsize)\n",
    "\n",
    "s2raster = rasterio.open('s2.tif', 'w', driver='GTiff', height=newarrays[0].shape[0], \n",
    "                         width=newarrays[0].shape[1], dtype='float32', crs=crs, transform=transform, count=3)\n",
    "s2raster.write(newarrays[0], 1)\n",
    "s2raster.write(newarrays[1], 2)\n",
    "s2raster.write(newarrays[2], 3)\n",
    "s2raster.close()"
   ]
  },
  {
   "cell_type": "code",
   "execution_count": 5,
   "metadata": {},
   "outputs": [
    {
     "name": "stderr",
     "output_type": "stream",
     "text": [
      "c:\\Users\\Gautam.Mathur\\env6\\lib\\site-packages\\rasterio\\__init__.py:320: NotGeoreferencedWarning: Dataset has no geotransform, gcps, or rpcs. The identity matrix will be returned.\n",
      "  dataset = DatasetReader(path, driver=driver, sharing=sharing, **kwargs)\n"
     ]
    }
   ],
   "source": [
    "# import maxar image bands, apply resampling, restack into rasterio object with geographic reference\n",
    "\n",
    "worldview_path = r'C:\\Users\\Gautam.Mathur\\OneDrive - World Resources Institute\\Gautam Intern Materials\\worldview-labels-heightpreds\\chm-preds'\n",
    "maxar = rasterio.open(f\"{worldview_path}\\{data.filename[idx]}\").read().astype(np.float32) / 255\n",
    "maxarrays = [maxar[0], maxar[1], maxar[2]]\n",
    "\n",
    "##########bicubic resampling\n",
    "maxar5 = []\n",
    "for i in maxarrays:\n",
    "    img = zoom(i, zoom=1/5, order=3)\n",
    "    maxar5.append(img)\n",
    "\n",
    "pixelsize = 0.59*maxarrays[1].shape[0]/maxar5[1].shape[0]\n",
    "top_left_easting = utminfo[0]-70\n",
    "top_left_northing = utminfo[1]+70\n",
    "transform = from_origin(top_left_easting, top_left_northing, pixelsize, pixelsize)\n",
    "\n",
    "wvraster = rasterio.open('wv.tif', 'w', driver='GTiff', height=maxar5[0].shape[0], \n",
    "                         width=maxar5[0].shape[1], dtype='float32', crs=crs, transform=transform, count=3)\n",
    "wvraster.write(maxar5[0], 1)\n",
    "wvraster.write(maxar5[1], 2)\n",
    "wvraster.write(maxar5[2], 3)\n",
    "wvraster.close()\n",
    "#0.59 m GSD\n"
   ]
  },
  {
   "cell_type": "code",
   "execution_count": 26,
   "metadata": {},
   "outputs": [
    {
     "name": "stderr",
     "output_type": "stream",
     "text": [
      "Warping progress     |===-----------------------------------------------| 5.3% Complete  => 0:00:00"
     ]
    },
    {
     "name": "stdout",
     "output_type": "stream",
     "text": [
      "Calculating footprint polygon and actual data corner coordinates for reference image...\n",
      "Bounding box of calculated footprint for reference image:\n",
      "\t(465101.8727095186, 4447907.772570158, 465252.91270951857, 4448058.812570158)\n",
      "Calculating footprint polygon and actual data corner coordinates for image to be shifted...\n",
      "Bounding box of calculated footprint for image to be shifted:\n",
      "\t(465031.8727095186, 4447848.812570158, 465311.8727095186, 4448128.812570158)\n",
      "Matching window position (X,Y): 465177.39270951855/4447983.292570159\n",
      "Initializing tie points grid...\n",
      "Equalizing pixel grids and projections of reference and target image...\n"
     ]
    },
    {
     "name": "stderr",
     "output_type": "stream",
     "text": [
      "Warping progress     |==================================================| 100.0% Complete  => 0:00:00\n",
      "Warping progress     |==================================================| 100.0% Complete  => 0:00:00\n"
     ]
    },
    {
     "name": "stdout",
     "output_type": "stream",
     "text": [
      "Calculating tie point grid (961 points) using 8 CPU cores...\n"
     ]
    },
    {
     "name": "stderr",
     "output_type": "stream",
     "text": [
      "\tprogress: |==================================================| 100.0% Complete  => 0:00:14\n",
      "c:\\Users\\Gautam.Mathur\\env6\\lib\\site-packages\\arosics\\Tie_Point_Grid.py:1196: FutureWarning: `random_state` is a deprecated argument name for `ransac`. It will be removed in version 0.23. Please use `rng` instead.\n",
      "  ransac((src_coords, est_coords),\n",
      "c:\\Users\\Gautam.Mathur\\env6\\lib\\site-packages\\arosics\\DeShifter.py:291: UserWarning: \n",
      "The coordinate grid of s2 cannot be aligned to the desired grid because their pixel sizes are not exact multiples of each other (input [X/Y]: 2.5/2.5; desired [X/Y]: 2.961568627448287/2.9615686275064945). Therefore the original grid is chosen for the resampled output image. If you don´t like that you can use the 'out_gsd' or 'match_gsd' parameters to set an appropriate output pixel size or to allow changing the pixel size.\n",
      "\n",
      "  warnings.warn(\"\\nThe coordinate grid of %s cannot be aligned to the desired grid because their pixel \"\n",
      "Translating progress |--------------------------------------------------| 0.0% Complete  => 0:00:00"
     ]
    },
    {
     "name": "stdout",
     "output_type": "stream",
     "text": [
      "Found 358 matches.\n",
      "Performing validity checks...\n",
      "0 tie points flagged by level 1 filtering (reliability).\n",
      "133 tie points flagged by level 2 filtering (SSIM).\n",
      "26 tie points flagged by level 3 filtering (RANSAC)\n",
      "199 valid tie points remain after filtering.\n",
      "Correcting geometric shifts...\n"
     ]
    },
    {
     "name": "stderr",
     "output_type": "stream",
     "text": [
      "Translating progress |==================================================| 100.0% Complete  => 0:00:00\n",
      "Warping progress     |==================================================| 100.0% Complete  => 0:00:00\n"
     ]
    },
    {
     "name": "stdout",
     "output_type": "stream",
     "text": [
      "Writing GeoArray of size (112, 112, 3) to C:\\Users\\Gautam.Mathur\\coregout\\s2__shifted_to__wv.bsq.\n"
     ]
    },
    {
     "data": {
      "text/plain": [
       "OrderedDict([('band', None),\n",
       "             ('is shifted', True),\n",
       "             ('is resampled', True),\n",
       "             ('updated map info',\n",
       "              ['UTM',\n",
       "               1.0,\n",
       "               1.0,\n",
       "               465031.8727095186,\n",
       "               4448128.812570158,\n",
       "               2.5,\n",
       "               2.5,\n",
       "               32,\n",
       "               'North',\n",
       "               'WGS-84']),\n",
       "             ('updated geotransform',\n",
       "              (465031.8727095186, 2.5, 0.0, 4448128.812570158, 0.0, -2.5)),\n",
       "             ('updated projection',\n",
       "              'PROJCS[\"WGS 84 / UTM zone 32N\",GEOGCS[\"WGS 84\",DATUM[\"WGS_1984\",SPHEROID[\"WGS 84\",6378137,298.257223563,AUTHORITY[\"EPSG\",\"7030\"]],AUTHORITY[\"EPSG\",\"6326\"]],PRIMEM[\"Greenwich\",0,AUTHORITY[\"EPSG\",\"8901\"]],UNIT[\"degree\",0.0174532925199433,AUTHORITY[\"EPSG\",\"9122\"]],AUTHORITY[\"EPSG\",\"4326\"]],PROJECTION[\"Transverse_Mercator\"],PARAMETER[\"latitude_of_origin\",0],PARAMETER[\"central_meridian\",9],PARAMETER[\"scale_factor\",0.9996],PARAMETER[\"false_easting\",500000],PARAMETER[\"false_northing\",0],UNIT[\"metre\",1,AUTHORITY[\"EPSG\",\"9001\"]],AXIS[\"Easting\",EAST],AXIS[\"Northing\",NORTH],AUTHORITY[\"EPSG\",\"32632\"]]'),\n",
       "             ('arr_shifted',\n",
       "              array([[[0.03911335, 0.06023047, 0.03492214],\n",
       "                      [0.03959757, 0.06067112, 0.0352447 ],\n",
       "                      [0.04094446, 0.06183193, 0.03613489],\n",
       "                      ...,\n",
       "                      [0.21959303, 0.19478148, 0.1642675 ],\n",
       "                      [0.2199965 , 0.19376789, 0.16255498],\n",
       "                      [0.2204097 , 0.19315082, 0.16148789]],\n",
       "              \n",
       "                     [[0.03879545, 0.06000482, 0.03441016],\n",
       "                      [0.03924833, 0.06043199, 0.03474701],\n",
       "                      [0.04044538, 0.06153673, 0.03562222],\n",
       "                      ...,\n",
       "                      [0.2186034 , 0.19439638, 0.16392389],\n",
       "                      [0.21957925, 0.19402358, 0.16272192],\n",
       "                      [0.22034642, 0.19382499, 0.16197386]],\n",
       "              \n",
       "                     [[0.03843708, 0.05994898, 0.03400827],\n",
       "                      [0.0388639 , 0.06033712, 0.03432587],\n",
       "                      [0.03993212, 0.06134354, 0.03512828],\n",
       "                      ...,\n",
       "                      [0.21509744, 0.19248225, 0.16212566],\n",
       "                      [0.21756461, 0.19372168, 0.16221166],\n",
       "                      [0.21906056, 0.19445825, 0.16221258]],\n",
       "              \n",
       "                     ...,\n",
       "              \n",
       "                     [[0.06360929, 0.07785966, 0.05032079],\n",
       "                      [0.06320219, 0.0782881 , 0.04998038],\n",
       "                      [0.06041643, 0.078167  , 0.04792357],\n",
       "                      ...,\n",
       "                      [0.10038576, 0.08572035, 0.06249358],\n",
       "                      [0.09608988, 0.08383166, 0.0606846 ],\n",
       "                      [0.09261739, 0.0822614 , 0.05914469]],\n",
       "              \n",
       "                     [[0.05517917, 0.07196636, 0.04442681],\n",
       "                      [0.05461905, 0.07214013, 0.04396028],\n",
       "                      [0.05254641, 0.07216843, 0.04236231],\n",
       "                      ...,\n",
       "                      [0.10357507, 0.0862457 , 0.06404808],\n",
       "                      [0.09747716, 0.08364598, 0.06139122],\n",
       "                      [0.09290479, 0.08170536, 0.05932232]],\n",
       "              \n",
       "                     [[0.        , 0.        , 0.        ],\n",
       "                      [0.05195877, 0.07021942, 0.04209141],\n",
       "                      [0.04983849, 0.07008267, 0.04044357],\n",
       "                      ...,\n",
       "                      [0.10541099, 0.08610247, 0.06485908],\n",
       "                      [0.09759583, 0.08281806, 0.06140167],\n",
       "                      [0.09200884, 0.08053336, 0.05885328]]], dtype=float32)),\n",
       "             ('GeoArray_shifted',\n",
       "              <geoarray.baseclasses.GeoArray at 0x1e36aaf6d10>)])"
      ]
     },
     "execution_count": 26,
     "metadata": {},
     "output_type": "execute_result"
    }
   ],
   "source": [
    "#conducting coregistration of unsampled/resampled images. \n",
    "\n",
    "im_reference = 'wv.tif'\n",
    "im_target = 's2.tif'\n",
    "\n",
    "kwargs = {\n",
    "    'grid_res' : 2, \n",
    "    'window_size' : (18, 18),\n",
    "    'path_out' : 'auto',\n",
    "    'projectDir' : r'C:\\Users\\Gautam.Mathur\\coregout',\n",
    "    'max_shift' : 10, #this is in number of pixels. I wrote 10 because resampled spatial resolution of wv ~ 2.95. There is a default max shift of 5 pixels, so we are expanding max shift in this case. \n",
    "    'q' : False,\n",
    "\n",
    "}\n",
    "     \n",
    "CRL = COREG_LOCAL(im_reference,im_target,**kwargs, min_reliability=0)\n",
    "CRL.correct_shifts()\n",
    "\n",
    "#misalignment not more than 30-40 m"
   ]
  },
  {
   "cell_type": "code",
   "execution_count": 8,
   "metadata": {},
   "outputs": [],
   "source": [
    "#creating s2 10 m raster, which will later be coregistered using the tie points that have already been generated\n",
    "pixelsize = 10\n",
    "top_left_easting = utminfo[0]-140\n",
    "top_left_northing = utminfo[1]+140\n",
    "from rasterio.transform import from_origin\n",
    "transform = from_origin(top_left_easting, top_left_northing, pixelsize, pixelsize)\n",
    "\n",
    "s2normal = rasterio.open('s2_normal.tif', 'w', driver='GTiff', height=red.shape[0], \n",
    "                         width=red.shape[1], dtype='float32', crs=crs, transform=transform, count=3)\n",
    "s2normal.write(red, 1)\n",
    "s2normal.write(green, 2)\n",
    "s2normal.write(blue, 3)\n",
    "s2normal.close()"
   ]
  },
  {
   "cell_type": "code",
   "execution_count": 21,
   "metadata": {},
   "outputs": [
    {
     "name": "stderr",
     "output_type": "stream",
     "text": [
      "Translating progress |==================================================| 100.0% Complete  => 0:00:00\n",
      "Warping progress     |===========================-----------------------| 53.6% Complete  => 0:00:00Warping progress     |==================================================| 100.0% Complete  => 0:00:00\n"
     ]
    },
    {
     "name": "stdout",
     "output_type": "stream",
     "text": [
      "Correcting geometric shifts...\n",
      "Writing GeoArray of size (28, 28, 3) to auto.\n"
     ]
    },
    {
     "ename": "FileNotFoundError",
     "evalue": "[WinError 3] The system cannot find the path specified: ''",
     "output_type": "error",
     "traceback": [
      "\u001b[1;31m---------------------------------------------------------------------------\u001b[0m",
      "\u001b[1;31mFileNotFoundError\u001b[0m                         Traceback (most recent call last)",
      "Cell \u001b[1;32mIn[21], line 11\u001b[0m\n\u001b[0;32m      1\u001b[0m \u001b[39mfrom\u001b[39;00m \u001b[39marosics\u001b[39;00m \u001b[39mimport\u001b[39;00m DESHIFTER\n\u001b[0;32m      2\u001b[0m kwargs \u001b[39m=\u001b[39m {\n\u001b[0;32m      3\u001b[0m     \u001b[39m'\u001b[39m\u001b[39mgrid_res\u001b[39m\u001b[39m'\u001b[39m : \u001b[39m2\u001b[39m, \n\u001b[0;32m      4\u001b[0m     \u001b[39m'\u001b[39m\u001b[39mwindow_size\u001b[39m\u001b[39m'\u001b[39m : (\u001b[39m18\u001b[39m, \u001b[39m18\u001b[39m),\n\u001b[1;32m   (...)\u001b[0m\n\u001b[0;32m      8\u001b[0m \n\u001b[0;32m      9\u001b[0m }\n\u001b[1;32m---> 11\u001b[0m array1\u001b[39m=\u001b[39mDESHIFTER(\u001b[39mr\u001b[39;49m\u001b[39m'\u001b[39;49m\u001b[39mC:\u001b[39;49m\u001b[39m\\\u001b[39;49m\u001b[39mUsers\u001b[39;49m\u001b[39m\\\u001b[39;49m\u001b[39mGautam.Mathur\u001b[39;49m\u001b[39m\\\u001b[39;49m\u001b[39mcoregout\u001b[39;49m\u001b[39m\\\u001b[39;49m\u001b[39ms2_normal.tif\u001b[39;49m\u001b[39m'\u001b[39;49m, CRL\u001b[39m.\u001b[39;49mcoreg_info, \u001b[39m*\u001b[39;49m\u001b[39m*\u001b[39;49mkwargs)\u001b[39m.\u001b[39;49mcorrect_shifts()\n\u001b[0;32m     12\u001b[0m arr_data \u001b[39m=\u001b[39m array1[\u001b[39m'\u001b[39m\u001b[39mGeoArray_shifted\u001b[39m\u001b[39m'\u001b[39m]\n\u001b[0;32m     13\u001b[0m pixelsize \u001b[39m=\u001b[39m \u001b[39m10\u001b[39m\n",
      "File \u001b[1;32mc:\\Users\\Gautam.Mathur\\env6\\lib\\site-packages\\arosics\\DeShifter.py:412\u001b[0m, in \u001b[0;36mDESHIFTER.correct_shifts\u001b[1;34m(self)\u001b[0m\n\u001b[0;32m    409\u001b[0m     \u001b[39mself\u001b[39m\u001b[39m.\u001b[39mis_resampled \u001b[39m=\u001b[39m \u001b[39mTrue\u001b[39;00m\n\u001b[0;32m    411\u001b[0m \u001b[39mif\u001b[39;00m \u001b[39mself\u001b[39m\u001b[39m.\u001b[39mpath_out:\n\u001b[1;32m--> 412\u001b[0m     out_geoArr\u001b[39m.\u001b[39;49msave(\u001b[39mself\u001b[39;49m\u001b[39m.\u001b[39;49mpath_out, fmt\u001b[39m=\u001b[39;49m\u001b[39mself\u001b[39;49m\u001b[39m.\u001b[39;49mfmt_out, creationOptions\u001b[39m=\u001b[39;49m\u001b[39mself\u001b[39;49m\u001b[39m.\u001b[39;49mout_creaOpt)\n\u001b[0;32m    414\u001b[0m \u001b[39m# validation\u001b[39;00m\n\u001b[0;32m    415\u001b[0m \u001b[39mif\u001b[39;00m \u001b[39mnot\u001b[39;00m is_coord_grid_equal(\u001b[39mself\u001b[39m\u001b[39m.\u001b[39mupdated_gt, \u001b[39m*\u001b[39m\u001b[39mself\u001b[39m\u001b[39m.\u001b[39mout_grid, tolerance\u001b[39m=\u001b[39m\u001b[39m1.e8\u001b[39m):\n",
      "File \u001b[1;32mc:\\Users\\Gautam.Mathur\\env6\\lib\\site-packages\\geoarray\\baseclasses.py:1052\u001b[0m, in \u001b[0;36mGeoArray.save\u001b[1;34m(self, out_path, fmt, creationOptions)\u001b[0m\n\u001b[0;32m   1048\u001b[0m     \u001b[39mraise\u001b[39;00m \u001b[39mException\u001b[39;00m(\u001b[39m\"\u001b[39m\u001b[39m'\u001b[39m\u001b[39m%s\u001b[39;00m\u001b[39m'\u001b[39m\u001b[39m is not a supported GDAL driver. Refer to https://gdal.org/drivers/raster/index.html \u001b[39m\u001b[39m\"\u001b[39m\n\u001b[0;32m   1049\u001b[0m                     \u001b[39m\"\u001b[39m\u001b[39mfor full list of GDAL driver codes.\u001b[39m\u001b[39m\"\u001b[39m \u001b[39m%\u001b[39m fmt)\n\u001b[0;32m   1051\u001b[0m \u001b[39mif\u001b[39;00m \u001b[39mnot\u001b[39;00m os\u001b[39m.\u001b[39mpath\u001b[39m.\u001b[39misdir(os\u001b[39m.\u001b[39mpath\u001b[39m.\u001b[39mdirname(out_path)):\n\u001b[1;32m-> 1052\u001b[0m     os\u001b[39m.\u001b[39;49mmakedirs(os\u001b[39m.\u001b[39;49mpath\u001b[39m.\u001b[39;49mdirname(out_path))\n\u001b[0;32m   1054\u001b[0m envi_metadict \u001b[39m=\u001b[39m \u001b[39mself\u001b[39m\u001b[39m.\u001b[39mmetadata\u001b[39m.\u001b[39mto_ENVI_metadict()\n\u001b[0;32m   1056\u001b[0m \u001b[39m###########################\u001b[39;00m\n\u001b[0;32m   1057\u001b[0m \u001b[39m# get source GDAL dataset #\u001b[39;00m\n\u001b[0;32m   1058\u001b[0m \u001b[39m###########################\u001b[39;00m\n",
      "File \u001b[1;32mC:\\Program Files\\WindowsApps\\PythonSoftwareFoundation.Python.3.10_3.10.3056.0_x64__qbz5n2kfra8p0\\lib\\os.py:225\u001b[0m, in \u001b[0;36mmakedirs\u001b[1;34m(name, mode, exist_ok)\u001b[0m\n\u001b[0;32m    223\u001b[0m         \u001b[39mreturn\u001b[39;00m\n\u001b[0;32m    224\u001b[0m \u001b[39mtry\u001b[39;00m:\n\u001b[1;32m--> 225\u001b[0m     mkdir(name, mode)\n\u001b[0;32m    226\u001b[0m \u001b[39mexcept\u001b[39;00m \u001b[39mOSError\u001b[39;00m:\n\u001b[0;32m    227\u001b[0m     \u001b[39m# Cannot rely on checking for EEXIST, since the operating system\u001b[39;00m\n\u001b[0;32m    228\u001b[0m     \u001b[39m# could give priority to other errors like EACCES or EROFS\u001b[39;00m\n\u001b[0;32m    229\u001b[0m     \u001b[39mif\u001b[39;00m \u001b[39mnot\u001b[39;00m exist_ok \u001b[39mor\u001b[39;00m \u001b[39mnot\u001b[39;00m path\u001b[39m.\u001b[39misdir(name):\n",
      "\u001b[1;31mFileNotFoundError\u001b[0m: [WinError 3] The system cannot find the path specified: ''"
     ]
    }
   ],
   "source": [
    "\n",
    "from arosics import DESHIFTER\n",
    "#kwargs = {\n",
    " #   'grid_res' : 2, \n",
    "  #  'window_size' : (18, 18),\n",
    "   # 'path_out' : 'auto',\n",
    "    #'projectDir' : r'C:\\Users\\Gautam.Mathur\\coregout',\n",
    "    '#q' : False,\n",
    "\n",
    "#}\n",
    "\n",
    "array1=DESHIFTER(r'C:\\Users\\Gautam.Mathur\\coregout\\s2_normal.tif', CRL.coreg_info).correct_shifts()\n",
    "arr_data = array1['GeoArray_shifted']\n",
    "pixelsize = 10\n",
    "top_left_easting = utminfo[0]-140\n",
    "top_left_northing = utminfo[1]+140\n",
    "from rasterio.transform import from_origin\n",
    "transform = from_origin(top_left_easting, top_left_northing, pixelsize, pixelsize)\n",
    "s2shifted= rasterio.open ('C:\\\\Users\\\\Gautam.Mathur\\\\coregout\\\\s2_shifted.tif', 'w', driver='GTiff',height=arr_data.shape[0], \n",
    "                         width=arr_data.shape[1], dtype='float32', crs=crs, transform=transform, count=3)\n",
    "s2shifted.write(arr_data[0], 1)\n",
    "s2shifted.write(arr_data[1], 2)\n",
    "s2shifted.write(arr_data[2], 3)\n",
    "s2shifted.close()"
   ]
  },
  {
   "cell_type": "code",
   "execution_count": 49,
   "metadata": {},
   "outputs": [
    {
     "data": {
      "image/png": "[encoded data removed]",
      "text/plain": [
       "<Figure size 640x480 with 1 Axes>"
      ]
     },
     "metadata": {},
     "output_type": "display_data"
    }
   ],
   "source": [
    "#what the deshifter output looks like right now\n",
    "plt.imshow(arr_data)\n",
    "plt.show()"
   ]
  }
 ],
 "metadata": {
  "kernelspec": {
   "display_name": "Python 3",
   "language": "python",
   "name": "python3"
  },
  "language_info": {
   "codemirror_mode": {
    "name": "ipython",
    "version": 3
   },
   "file_extension": ".py",
   "mimetype": "text/x-python",
   "name": "python",
   "nbconvert_exporter": "python",
   "pygments_lexer": "ipython3",
   "version": "3.8.8"
  }
 },
 "nbformat": 4,
 "nbformat_minor": 2
}
