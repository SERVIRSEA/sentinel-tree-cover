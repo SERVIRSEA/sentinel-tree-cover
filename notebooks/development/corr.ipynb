{
 "cells": [
  {
   "cell_type": "code",
   "execution_count": 2,
   "metadata": {},
   "outputs": [],
   "source": [
    "import os\n",
    "import geopandas as gpd\n",
    "import rasterio\n",
    "from rasterstats import point_query\n",
    "import pandas as pd\n",
    "os.chdir(r\"C:\\Users\\Gautam.Mathur\\coregout\")\n",
    "import statsmodels"
   ]
  },
  {
   "cell_type": "code",
   "execution_count": 22,
   "metadata": {},
   "outputs": [],
   "source": [
    "trainimg = []\n",
    "for idx in range(1, 30):\n",
    "    shapefile = os.path.join(\"corr_points\", \"points\" + str(idx) +\".shp\")\n",
    "    points : os.path.join(\"corr_points\", \"points\" + str(idx) + \".shp\")\n",
    "    namedict = {\n",
    "    \"wv\" : \"wv\" + str(idx) + \".tif\",\n",
    "    \"s2\" : \"s2\" + str(idx) +\".tif\",\n",
    "    \"s210m\" : \"s210m\" + str(idx) +\".tif\",\n",
    "    \"coreg\" : \"coreg\" + str(idx) + \".bsq\",\n",
    "    \"resampled_result\" : os.path.join(\"resampled_results\", str(idx) + \"final\" + \".tif\")}\n",
    "\n",
    "    stats = {}\n",
    "    for i in list(namedict.keys()):\n",
    "        stats[i] = point_query(shapefile, namedict[i])\n",
    "    table = pd.DataFrame.from_dict(stats)\n",
    "    #removing nans to get points that intersect with wv image\n",
    "    #index = []\n",
    "    #import numpy as np\n",
    "    #for i in range(len(table.wv)):\n",
    "    #    if np.isnan(table.wv[i])==False:\n",
    "    #        index.append(i)\n",
    "\n",
    "    if np.sqrt(bn.nanmean((table.wv-table.s2)**2)) > np.sqrt(bm.nanmean((table.wv-table.coreg)**2)):\n",
    "        trainimg.append(idx)"
   ]
  }
 ],
 "metadata": {
  "kernelspec": {
   "display_name": "Python 3",
   "language": "python",
   "name": "python3"
  },
  "language_info": {
   "codemirror_mode": {
    "name": "ipython",
    "version": 3
   },
   "file_extension": ".py",
   "mimetype": "text/x-python",
   "name": "python",
   "nbconvert_exporter": "python",
   "pygments_lexer": "ipython3",
   "version": "3.8.8"
  }
 },
 "nbformat": 4,
 "nbformat_minor": 2
}
