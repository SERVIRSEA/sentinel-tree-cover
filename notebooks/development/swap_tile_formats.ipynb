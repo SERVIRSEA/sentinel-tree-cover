{
 "cells": [
  {
   "cell_type": "code",
   "execution_count": 1,
   "metadata": {},
   "outputs": [],
   "source": [
    "import os\n",
    "import glob\n",
    "import pandas as pd"
   ]
  },
  {
   "cell_type": "code",
   "execution_count": 17,
   "metadata": {},
   "outputs": [
    {
     "name": "stdout",
     "output_type": "stream",
     "text": [
      "1292830\n"
     ]
    }
   ],
   "source": [
    "#old = pd.read_csv(\"../../src/processing_area_nov10.csv\")\n",
    "#new = pd.read_csv(\"../../src/lac_africa_2022.csv\")\n",
    "new = pd.read_csv(\"process_area_2022.csv\")\n",
    "print(len(new))\n",
    "\n"
   ]
  },
  {
   "cell_type": "code",
   "execution_count": 19,
   "metadata": {},
   "outputs": [],
   "source": [
    "df = new.filter(['X', 'Y', 'Y_tile', 'X_tile', 'sovereignt'])"
   ]
  },
  {
   "cell_type": "code",
   "execution_count": 20,
   "metadata": {},
   "outputs": [],
   "source": [
    "df.to_csv(\"process_area_2022.csv\", index = False)"
   ]
  },
  {
   "cell_type": "code",
   "execution_count": 18,
   "metadata": {},
   "outputs": [
    {
     "data": {
      "text/html": [
       "<div>\n",
       "<style scoped>\n",
       "    .dataframe tbody tr th:only-of-type {\n",
       "        vertical-align: middle;\n",
       "    }\n",
       "\n",
       "    .dataframe tbody tr th {\n",
       "        vertical-align: top;\n",
       "    }\n",
       "\n",
       "    .dataframe thead th {\n",
       "        text-align: right;\n",
       "    }\n",
       "</style>\n",
       "<table border=\"1\" class=\"dataframe\">\n",
       "  <thead>\n",
       "    <tr style=\"text-align: right;\">\n",
       "      <th></th>\n",
       "      <th>X</th>\n",
       "      <th>Y</th>\n",
       "      <th>Y_tile</th>\n",
       "      <th>X_tile</th>\n",
       "      <th>country</th>\n",
       "      <th>sovereignt</th>\n",
       "      <th>n</th>\n",
       "      <th>distance</th>\n",
       "      <th>feature_x</th>\n",
       "      <th>feature_y</th>\n",
       "      <th>nearest_x</th>\n",
       "      <th>nearest_y</th>\n",
       "    </tr>\n",
       "  </thead>\n",
       "  <tbody>\n",
       "    <tr>\n",
       "      <th>0</th>\n",
       "      <td>-116.9722</td>\n",
       "      <td>37.4722</td>\n",
       "      <td>1624</td>\n",
       "      <td>0</td>\n",
       "      <td>United States of America</td>\n",
       "      <td>United States of America</td>\n",
       "      <td>1.0</td>\n",
       "      <td>0.0</td>\n",
       "      <td>-116.9722</td>\n",
       "      <td>37.4722</td>\n",
       "      <td>-116.9722</td>\n",
       "      <td>37.4722</td>\n",
       "    </tr>\n",
       "    <tr>\n",
       "      <th>1</th>\n",
       "      <td>-116.9167</td>\n",
       "      <td>37.4722</td>\n",
       "      <td>1624</td>\n",
       "      <td>1</td>\n",
       "      <td>United States of America</td>\n",
       "      <td>United States of America</td>\n",
       "      <td>1.0</td>\n",
       "      <td>0.0</td>\n",
       "      <td>-116.9167</td>\n",
       "      <td>37.4722</td>\n",
       "      <td>-116.9167</td>\n",
       "      <td>37.4722</td>\n",
       "    </tr>\n",
       "    <tr>\n",
       "      <th>2</th>\n",
       "      <td>-116.8611</td>\n",
       "      <td>37.4722</td>\n",
       "      <td>1624</td>\n",
       "      <td>2</td>\n",
       "      <td>United States of America</td>\n",
       "      <td>United States of America</td>\n",
       "      <td>1.0</td>\n",
       "      <td>0.0</td>\n",
       "      <td>-116.8611</td>\n",
       "      <td>37.4722</td>\n",
       "      <td>-116.8611</td>\n",
       "      <td>37.4722</td>\n",
       "    </tr>\n",
       "    <tr>\n",
       "      <th>3</th>\n",
       "      <td>-116.5833</td>\n",
       "      <td>37.4722</td>\n",
       "      <td>1624</td>\n",
       "      <td>3</td>\n",
       "      <td>United States of America</td>\n",
       "      <td>United States of America</td>\n",
       "      <td>1.0</td>\n",
       "      <td>0.0</td>\n",
       "      <td>-116.5833</td>\n",
       "      <td>37.4722</td>\n",
       "      <td>-116.5833</td>\n",
       "      <td>37.4722</td>\n",
       "    </tr>\n",
       "    <tr>\n",
       "      <th>4</th>\n",
       "      <td>-116.5278</td>\n",
       "      <td>37.4722</td>\n",
       "      <td>1624</td>\n",
       "      <td>4</td>\n",
       "      <td>United States of America</td>\n",
       "      <td>United States of America</td>\n",
       "      <td>1.0</td>\n",
       "      <td>0.0</td>\n",
       "      <td>-116.5278</td>\n",
       "      <td>37.4722</td>\n",
       "      <td>-116.5278</td>\n",
       "      <td>37.4722</td>\n",
       "    </tr>\n",
       "  </tbody>\n",
       "</table>\n",
       "</div>"
      ],
      "text/plain": [
       "          X        Y  Y_tile  X_tile                   country  \\\n",
       "0 -116.9722  37.4722    1624       0  United States of America   \n",
       "1 -116.9167  37.4722    1624       1  United States of America   \n",
       "2 -116.8611  37.4722    1624       2  United States of America   \n",
       "3 -116.5833  37.4722    1624       3  United States of America   \n",
       "4 -116.5278  37.4722    1624       4  United States of America   \n",
       "\n",
       "                 sovereignt    n  distance  feature_x  feature_y  nearest_x  \\\n",
       "0  United States of America  1.0       0.0  -116.9722    37.4722  -116.9722   \n",
       "1  United States of America  1.0       0.0  -116.9167    37.4722  -116.9167   \n",
       "2  United States of America  1.0       0.0  -116.8611    37.4722  -116.8611   \n",
       "3  United States of America  1.0       0.0  -116.5833    37.4722  -116.5833   \n",
       "4  United States of America  1.0       0.0  -116.5278    37.4722  -116.5278   \n",
       "\n",
       "   nearest_y  \n",
       "0    37.4722  \n",
       "1    37.4722  \n",
       "2    37.4722  \n",
       "3    37.4722  \n",
       "4    37.4722  "
      ]
     },
     "execution_count": 18,
     "metadata": {},
     "output_type": "execute_result"
    }
   ],
   "source": [
    "new.head(5)"
   ]
  },
  {
   "cell_type": "code",
   "execution_count": 7,
   "metadata": {},
   "outputs": [],
   "source": [
    "import numpy as np\n",
    "new['Y'] = np.around(new['Y'], 4)\n",
    "old['Y'] = np.around(old['Y'], 4)\n",
    "new['X'] = np.around(new['X'], 4)\n",
    "old['X'] = np.around(old['X'], 4)"
   ]
  },
  {
   "cell_type": "code",
   "execution_count": 8,
   "metadata": {},
   "outputs": [
    {
     "name": "stdout",
     "output_type": "stream",
     "text": [
      "165\n",
      "49\n"
     ]
    }
   ],
   "source": [
    "old_y = np.unique(old['Y'])\n",
    "new_y = np.unique(new['Y'])\n",
    "\n",
    "old_x = np.unique(old['X'])\n",
    "new_x = np.unique(new['X'])\n",
    "\n",
    "to_remove_y = [x for x in new_y if x not in old_y]\n",
    "to_remove_x = [x for x in new_x if x not in old_x]\n",
    "print(len(to_remove_x))\n",
    "print(len(to_remove_y))\n",
    "\n",
    "for i in to_remove_y:\n",
    "    new = new[new.Y != i]\n",
    "    \n",
    "for i in to_remove_x:\n",
    "    new = new[new.X != i]"
   ]
  },
  {
   "cell_type": "code",
   "execution_count": 9,
   "metadata": {},
   "outputs": [
    {
     "data": {
      "text/html": [
       "<div>\n",
       "<style scoped>\n",
       "    .dataframe tbody tr th:only-of-type {\n",
       "        vertical-align: middle;\n",
       "    }\n",
       "\n",
       "    .dataframe tbody tr th {\n",
       "        vertical-align: top;\n",
       "    }\n",
       "\n",
       "    .dataframe thead th {\n",
       "        text-align: right;\n",
       "    }\n",
       "</style>\n",
       "<table border=\"1\" class=\"dataframe\">\n",
       "  <thead>\n",
       "    <tr style=\"text-align: right;\">\n",
       "      <th></th>\n",
       "      <th>X</th>\n",
       "      <th>Y</th>\n",
       "      <th>VALUE</th>\n",
       "      <th>Unnamed: 3</th>\n",
       "    </tr>\n",
       "  </thead>\n",
       "  <tbody>\n",
       "    <tr>\n",
       "      <th>0</th>\n",
       "      <td>-116.9722</td>\n",
       "      <td>37.4722</td>\n",
       "      <td>1.0</td>\n",
       "      <td>NaN</td>\n",
       "    </tr>\n",
       "    <tr>\n",
       "      <th>1</th>\n",
       "      <td>-116.9167</td>\n",
       "      <td>37.4722</td>\n",
       "      <td>1.0</td>\n",
       "      <td>NaN</td>\n",
       "    </tr>\n",
       "    <tr>\n",
       "      <th>2</th>\n",
       "      <td>-116.8611</td>\n",
       "      <td>37.4722</td>\n",
       "      <td>1.0</td>\n",
       "      <td>NaN</td>\n",
       "    </tr>\n",
       "    <tr>\n",
       "      <th>7</th>\n",
       "      <td>-116.5833</td>\n",
       "      <td>37.4722</td>\n",
       "      <td>1.0</td>\n",
       "      <td>NaN</td>\n",
       "    </tr>\n",
       "    <tr>\n",
       "      <th>8</th>\n",
       "      <td>-116.5278</td>\n",
       "      <td>37.4722</td>\n",
       "      <td>1.0</td>\n",
       "      <td>NaN</td>\n",
       "    </tr>\n",
       "  </tbody>\n",
       "</table>\n",
       "</div>"
      ],
      "text/plain": [
       "          X        Y  VALUE  Unnamed: 3\n",
       "0 -116.9722  37.4722    1.0         NaN\n",
       "1 -116.9167  37.4722    1.0         NaN\n",
       "2 -116.8611  37.4722    1.0         NaN\n",
       "7 -116.5833  37.4722    1.0         NaN\n",
       "8 -116.5278  37.4722    1.0         NaN"
      ]
     },
     "execution_count": 9,
     "metadata": {},
     "output_type": "execute_result"
    }
   ],
   "source": [
    "new.head(5)"
   ]
  },
  {
   "cell_type": "code",
   "execution_count": 10,
   "metadata": {},
   "outputs": [],
   "source": [
    "new = pd.merge(new, old, on = ['X', 'Y'], how = 'left')\n",
    "\n",
    "\n"
   ]
  },
  {
   "cell_type": "code",
   "execution_count": 11,
   "metadata": {},
   "outputs": [],
   "source": [
    "new.to_csv(\"temp.csv\")\n",
    "\n"
   ]
  },
  {
   "cell_type": "code",
   "execution_count": 12,
   "metadata": {},
   "outputs": [
    {
     "data": {
      "text/plain": [
       "1292817"
      ]
     },
     "execution_count": 12,
     "metadata": {},
     "output_type": "execute_result"
    }
   ],
   "source": [
    "len(new)"
   ]
  },
  {
   "cell_type": "code",
   "execution_count": 12,
   "metadata": {},
   "outputs": [],
   "source": [
    "def id_tile_number(new, old, idx):\n",
    "    if np.isnan(new['Y_tile'][idx]):\n",
    "        new_y = new['Y'][idx]\n",
    "        new_x = new['X'][idx]\n",
    "        y_tile = np.unique(old[old['Y'] == new_y]['Y_tile'])\n",
    "        x_tile = np.unique(old[old['X'] == new_x]['X_tile'])\n",
    "        assert len(y_tile) == 1\n",
    "        assert len(x_tile) == 1\n",
    "        new['X_tile'][idx] = x_tile[0]\n",
    "        new['Y_tile'][idx] = y_tile[0]\n"
   ]
  },
  {
   "cell_type": "code",
   "execution_count": 13,
   "metadata": {},
   "outputs": [
    {
     "data": {
      "application/vnd.jupyter.widget-view+json": {
       "model_id": "d670ee819a5442898650a6d5a84745af",
       "version_major": 2,
       "version_minor": 0
      },
      "text/plain": [
       "  0%|          | 0/1292817 [00:00<?, ?it/s]"
      ]
     },
     "metadata": {},
     "output_type": "display_data"
    }
   ],
   "source": [
    "import warnings \n",
    "warnings.simplefilter(action='ignore') \n",
    "from tqdm.notebook import tnrange\n",
    "for row in tnrange(len(new)):\n",
    "    id_tile_number(new, old, row)"
   ]
  },
  {
   "cell_type": "code",
   "execution_count": 14,
   "metadata": {},
   "outputs": [
    {
     "data": {
      "text/html": [
       "<div>\n",
       "<style scoped>\n",
       "    .dataframe tbody tr th:only-of-type {\n",
       "        vertical-align: middle;\n",
       "    }\n",
       "\n",
       "    .dataframe tbody tr th {\n",
       "        vertical-align: top;\n",
       "    }\n",
       "\n",
       "    .dataframe thead th {\n",
       "        text-align: right;\n",
       "    }\n",
       "</style>\n",
       "<table border=\"1\" class=\"dataframe\">\n",
       "  <thead>\n",
       "    <tr style=\"text-align: right;\">\n",
       "      <th></th>\n",
       "      <th>X</th>\n",
       "      <th>Y</th>\n",
       "      <th>VALUE</th>\n",
       "      <th>Unnamed: 3</th>\n",
       "      <th>Y_tile</th>\n",
       "      <th>X_tile</th>\n",
       "      <th>country</th>\n",
       "    </tr>\n",
       "  </thead>\n",
       "  <tbody>\n",
       "    <tr>\n",
       "      <th>0</th>\n",
       "      <td>-116.9722</td>\n",
       "      <td>37.4722</td>\n",
       "      <td>1.0</td>\n",
       "      <td>NaN</td>\n",
       "      <td>1624.0</td>\n",
       "      <td>0.0</td>\n",
       "      <td>United States of America</td>\n",
       "    </tr>\n",
       "    <tr>\n",
       "      <th>1</th>\n",
       "      <td>-116.9167</td>\n",
       "      <td>37.4722</td>\n",
       "      <td>1.0</td>\n",
       "      <td>NaN</td>\n",
       "      <td>1624.0</td>\n",
       "      <td>1.0</td>\n",
       "      <td>United States of America</td>\n",
       "    </tr>\n",
       "    <tr>\n",
       "      <th>2</th>\n",
       "      <td>-116.8611</td>\n",
       "      <td>37.4722</td>\n",
       "      <td>1.0</td>\n",
       "      <td>NaN</td>\n",
       "      <td>1624.0</td>\n",
       "      <td>2.0</td>\n",
       "      <td>United States of America</td>\n",
       "    </tr>\n",
       "    <tr>\n",
       "      <th>3</th>\n",
       "      <td>-116.5833</td>\n",
       "      <td>37.4722</td>\n",
       "      <td>1.0</td>\n",
       "      <td>NaN</td>\n",
       "      <td>1624.0</td>\n",
       "      <td>3.0</td>\n",
       "      <td>United States of America</td>\n",
       "    </tr>\n",
       "    <tr>\n",
       "      <th>4</th>\n",
       "      <td>-116.5278</td>\n",
       "      <td>37.4722</td>\n",
       "      <td>1.0</td>\n",
       "      <td>NaN</td>\n",
       "      <td>1624.0</td>\n",
       "      <td>4.0</td>\n",
       "      <td>United States of America</td>\n",
       "    </tr>\n",
       "  </tbody>\n",
       "</table>\n",
       "</div>"
      ],
      "text/plain": [
       "          X        Y  VALUE  Unnamed: 3  Y_tile  X_tile  \\\n",
       "0 -116.9722  37.4722    1.0         NaN  1624.0     0.0   \n",
       "1 -116.9167  37.4722    1.0         NaN  1624.0     1.0   \n",
       "2 -116.8611  37.4722    1.0         NaN  1624.0     2.0   \n",
       "3 -116.5833  37.4722    1.0         NaN  1624.0     3.0   \n",
       "4 -116.5278  37.4722    1.0         NaN  1624.0     4.0   \n",
       "\n",
       "                    country  \n",
       "0  United States of America  \n",
       "1  United States of America  \n",
       "2  United States of America  \n",
       "3  United States of America  \n",
       "4  United States of America  "
      ]
     },
     "execution_count": 14,
     "metadata": {},
     "output_type": "execute_result"
    }
   ],
   "source": [
    "new.head(5)"
   ]
  },
  {
   "cell_type": "code",
   "execution_count": 15,
   "metadata": {},
   "outputs": [],
   "source": [
    "new = new.filter(['X', 'Y', 'Y_tile', 'X_tile', 'country'])"
   ]
  },
  {
   "cell_type": "code",
   "execution_count": 16,
   "metadata": {},
   "outputs": [],
   "source": [
    "new.to_csv(\"../../src/temp2.csv\", index = False)\n",
    "\n",
    "\n"
   ]
  },
  {
   "cell_type": "code",
   "execution_count": null,
   "metadata": {},
   "outputs": [],
   "source": [
    "base_folder = \"../project-monitoring/tof/\"\n",
    "from shutil import copyfile, copytree\n",
    "\n",
    "for folder_y in os.listdir(base_folder):\n",
    "    if \".\" not in folder_y:\n",
    "        for folder_x in os.listdir(base_folder + folder_y):\n",
    "            if \".\" not in folder_x:\n",
    "                for file in os.listdir(base_folder + folder_y + \"/\" + folder_x):\n",
    "                    if file[-4:] == \".tif\":\n",
    "                        source_file = file\n",
    "                        source = old[old['X_tile'].astype(str) == folder_y]\n",
    "                        source = source[source['Y_tile'].astype(str) == folder_x]\n",
    "                        source = source.reset_index(drop = True)\n",
    "                        source_y = source['Y'][0]\n",
    "                        source_x = source['X'][0]\n",
    "                        dest = new[np.isclose(new['Y'], source_y)]\n",
    "                        dest = dest[np.isclose(dest['X'], source_x)]\n",
    "                        dest = dest.reset_index(drop = True)\n",
    "                        dest_x = dest['X_tile'][0]\n",
    "                        dest_y = dest['Y_tile'][0]\n",
    "                        #print(folder_y, dest_x)\n",
    "                        #print(folder_x, dest_y)\n",
    "                        \n",
    "                        new_dir = \"../project-monitoring/tiles/\" + str(dest_x) + \"/\" + str(dest_y) + \"/\"\n",
    "                        new_file = f'{new_dir}{dest_x}X{dest_y}Y_v1.tif'\n",
    "                        old_file = f'{base_folder}{folder_y}/{folder_x}/{file}'\n",
    "                        \n",
    "                        \n",
    "                        if not os.path.exists(os.path.realpath(new_dir)):\n",
    "                            os.makedirs(os.path.realpath(new_dir))\n",
    "                        copyfile(old_file, new_file)"
   ]
  },
  {
   "cell_type": "markdown",
   "metadata": {},
   "source": [
    "# Create temp copy of individual country for reprocessing"
   ]
  },
  {
   "cell_type": "code",
   "execution_count": null,
   "metadata": {},
   "outputs": [],
   "source": [
    "df = new[new['country'] == 'Rwanda']\n",
    "df.head(5)"
   ]
  },
  {
   "cell_type": "code",
   "execution_count": null,
   "metadata": {},
   "outputs": [],
   "source": [
    "from shutil import copyfile, copytree\n",
    "\n",
    "for index, row in df.iterrows():\n",
    "    x = str(int(row['X_tile']))\n",
    "    y = str(int(row['Y_tile']))\n",
    "    old_path = f'../../project-monitoring/tof-output/{str(x)}/{str(y)}/'\n",
    "    new_path = f'../../project-monitoring/rwanda/{str(x)}/{str(y)}/'\n",
    "    if os.path.isdir(old_path):\n",
    "        copytree(old_path, new_path)\n"
   ]
  }
 ],
 "metadata": {
  "kernelspec": {
   "display_name": "remote_sensing",
   "language": "python",
   "name": "remote_sensing"
  },
  "language_info": {
   "codemirror_mode": {
    "name": "ipython",
    "version": 3
   },
   "file_extension": ".py",
   "mimetype": "text/x-python",
   "name": "python",
   "nbconvert_exporter": "python",
   "pygments_lexer": "ipython3",
   "version": "3.8.8"
  }
 },
 "nbformat": 4,
 "nbformat_minor": 2
}
